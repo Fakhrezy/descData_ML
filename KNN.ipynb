{
 "cells": [
  {
   "cell_type": "code",
   "execution_count": 1,
   "id": "b7f35e8a",
   "metadata": {},
   "outputs": [
    {
     "name": "stdout",
     "output_type": "stream",
     "text": [
      "Prediksi kelas untuk data uji: Elevated Proneness\n"
     ]
    }
   ],
   "source": [
    "import pandas as pd\n",
    "from sklearn.neighbors import KNeighborsClassifier\n",
    "from sklearn.preprocessing import StandardScaler\n",
    "\n",
    "# 1. Baca data\n",
    "df = pd.read_excel(\"dataset/schizoCase.xlsx\")\n",
    "\n",
    "# 2. Pisahkan data training dan data uji\n",
    "data_train = df.iloc[:-1, :]\n",
    "data_test = df.iloc[-1:, :]\n",
    "\n",
    "# 3. Ambil hanya kolom numerik\n",
    "X_train = data_train.select_dtypes(include='number').iloc[:, :-1]  # semua kolom numerik kecuali label\n",
    "y_train = data_train.iloc[:, -1]  # asumsi kolom terakhir adalah label\n",
    "X_test = data_test.select_dtypes(include='number').iloc[:, :-1]\n",
    "\n",
    "# 4. Standarisasi data\n",
    "scaler = StandardScaler()\n",
    "X_train_scaled = scaler.fit_transform(X_train)\n",
    "X_test_scaled = scaler.transform(X_test)\n",
    "\n",
    "# 5. Model KNN\n",
    "k = 6\n",
    "knn = KNeighborsClassifier(n_neighbors=k)\n",
    "knn.fit(X_train_scaled, y_train)\n",
    "\n",
    "# 6. Prediksi data uji\n",
    "prediction = knn.predict(X_test_scaled)\n",
    "\n",
    "print(\"Prediksi kelas untuk data uji:\", prediction[0])\n"
   ]
  }
 ],
 "metadata": {
  "kernelspec": {
   "display_name": "Python 3",
   "language": "python",
   "name": "python3"
  },
  "language_info": {
   "codemirror_mode": {
    "name": "ipython",
    "version": 3
   },
   "file_extension": ".py",
   "mimetype": "text/x-python",
   "name": "python",
   "nbconvert_exporter": "python",
   "pygments_lexer": "ipython3",
   "version": "3.11.9"
  }
 },
 "nbformat": 4,
 "nbformat_minor": 5
}
