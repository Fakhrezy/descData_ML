{
 "cells": [
  {
   "cell_type": "code",
   "execution_count": 1,
   "id": "bf5fc4f8",
   "metadata": {},
   "outputs": [],
   "source": [
    "import pandas as pd\n",
    "import matplotlib.pyplot as plt\n",
    "from sklearn import model_selection\n",
    "from sklearn.tree import DecisionTreeClassifier\n",
    "from sklearn.preprocessing import LabelEncoder\n",
    "import seaborn as sns\n",
    "from sklearn.metrics import classification_report\n",
    "# from sklearn.preprocessing import StandardScaler, MinMaxScaler, Normalizer\n",
    "import numpy as np\n"
   ]
  },
  {
   "cell_type": "code",
   "execution_count": 2,
   "id": "4e71e956",
   "metadata": {},
   "outputs": [
    {
     "name": "stdout",
     "output_type": "stream",
     "text": [
      "     Age  Gender  Marital_Status   Fatigue   Slowing      Pain   Hygiene  \\\n",
      "0  0.325       0               2  0.668653  0.183580  0.397263  0.278464   \n",
      "1  0.825       1               1  0.121694  0.044451  0.445757  0.504164   \n",
      "2  0.300       0               1  0.629807  0.237542  0.502095  0.335441   \n",
      "3  1.000       0               3  0.110802  0.569214  0.085281  0.339696   \n",
      "4  0.650       0               3  0.861405  0.487827  0.673113  0.702957   \n",
      "\n",
      "   Movement  Schizophrenia  \n",
      "0  0.289548              0  \n",
      "1  0.398257              3  \n",
      "2  0.332596              0  \n",
      "3  0.766339              3  \n",
      "4  0.567585              1  \n"
     ]
    }
   ],
   "source": [
    "file_path = \"../dataset/schizo_symptons_cleaned_MinMax.xlsx\"  \n",
    "df = pd.read_excel(file_path)\n",
    "print(df.head())"
   ]
  },
  {
   "cell_type": "code",
   "execution_count": 3,
   "id": "f3772089",
   "metadata": {},
   "outputs": [
    {
     "name": "stdout",
     "output_type": "stream",
     "text": [
      "               Age       Gender  Marital_Status      Fatigue      Slowing  \\\n",
      "count  5000.000000  5000.000000     5000.000000  5000.000000  5000.000000   \n",
      "mean      0.495835     0.498000        1.483000     0.504910     0.500735   \n",
      "std       0.239447     0.500046        1.130472     0.243461     0.243069   \n",
      "min       0.000000     0.000000        0.000000     0.000000     0.000000   \n",
      "25%       0.300000     0.000000        0.000000     0.299428     0.297777   \n",
      "50%       0.500000     0.000000        1.000000     0.504910     0.500735   \n",
      "75%       0.700000     1.000000        3.000000     0.709179     0.698237   \n",
      "max       1.000000     1.000000        3.000000     1.000000     1.000000   \n",
      "\n",
      "              Pain      Hygiene     Movement  Schizophrenia  \n",
      "count  5000.000000  5000.000000  5000.000000    5000.000000  \n",
      "mean      0.502095     0.502877     0.500111       0.766200  \n",
      "std       0.242588     0.249666     0.246022       1.150218  \n",
      "min       0.000000     0.000000     0.000000       0.000000  \n",
      "25%       0.302888     0.290620     0.291478       0.000000  \n",
      "50%       0.502095     0.504151     0.502987       0.000000  \n",
      "75%       0.703495     0.715635     0.704919       1.000000  \n",
      "max       1.000000     1.000000     1.000000       4.000000  \n"
     ]
    }
   ],
   "source": [
    "print(df.describe())\n"
   ]
  },
  {
   "cell_type": "code",
   "execution_count": 4,
   "id": "ab5177f3",
   "metadata": {},
   "outputs": [
    {
     "name": "stdout",
     "output_type": "stream",
     "text": [
      "<class 'pandas.core.frame.DataFrame'>\n",
      "RangeIndex: 5000 entries, 0 to 4999\n",
      "Data columns (total 9 columns):\n",
      " #   Column          Non-Null Count  Dtype  \n",
      "---  ------          --------------  -----  \n",
      " 0   Age             5000 non-null   float64\n",
      " 1   Gender          5000 non-null   int64  \n",
      " 2   Marital_Status  5000 non-null   int64  \n",
      " 3   Fatigue         5000 non-null   float64\n",
      " 4   Slowing         5000 non-null   float64\n",
      " 5   Pain            5000 non-null   float64\n",
      " 6   Hygiene         5000 non-null   float64\n",
      " 7   Movement        5000 non-null   float64\n",
      " 8   Schizophrenia   5000 non-null   int64  \n",
      "dtypes: float64(6), int64(3)\n",
      "memory usage: 351.7 KB\n",
      "None\n"
     ]
    }
   ],
   "source": [
    "print(df.info())"
   ]
  },
  {
   "cell_type": "code",
   "execution_count": 5,
   "id": "748fa11b",
   "metadata": {},
   "outputs": [],
   "source": [
    "# Pisahkan fitur (X) dan label (Y)\n",
    "df_X = df.drop(columns=['Schizophrenia'])  # semua fitur numerik\n",
    "df_Y = df['Schizophrenia'] # target klasifikasi"
   ]
  },
  {
   "cell_type": "code",
   "execution_count": 6,
   "id": "14441707",
   "metadata": {},
   "outputs": [],
   "source": [
    "# Konversi kembali menjadi DataFrame dengan kolom yang sesuai\n",
    "column_names = df.drop(columns=['Schizophrenia']).columns  \n",
    "df_X = pd.DataFrame(df_X, columns=column_names)"
   ]
  },
  {
   "cell_type": "code",
   "execution_count": 7,
   "id": "3e59c1d9",
   "metadata": {},
   "outputs": [
    {
     "name": "stdout",
     "output_type": "stream",
     "text": [
      "     Age  Gender  Marital_Status   Fatigue   Slowing      Pain   Hygiene  \\\n",
      "0  0.325       0               2  0.668653  0.183580  0.397263  0.278464   \n",
      "1  0.825       1               1  0.121694  0.044451  0.445757  0.504164   \n",
      "2  0.300       0               1  0.629807  0.237542  0.502095  0.335441   \n",
      "3  1.000       0               3  0.110802  0.569214  0.085281  0.339696   \n",
      "4  0.650       0               3  0.861405  0.487827  0.673113  0.702957   \n",
      "\n",
      "   Movement  \n",
      "0  0.289548  \n",
      "1  0.398257  \n",
      "2  0.332596  \n",
      "3  0.766339  \n",
      "4  0.567585  \n"
     ]
    }
   ],
   "source": [
    "print(df_X.head())"
   ]
  },
  {
   "cell_type": "code",
   "execution_count": 8,
   "id": "cc66d32d",
   "metadata": {},
   "outputs": [],
   "source": [
    "model_dt = DecisionTreeClassifier(ccp_alpha=0.01, random_state=42)\n",
    "model_dt.fit(df_X, df_Y)\n",
    "dt_test = model_dt.predict(df_X)"
   ]
  },
  {
   "cell_type": "code",
   "execution_count": 9,
   "id": "9c38d36f",
   "metadata": {},
   "outputs": [
    {
     "name": "stdout",
     "output_type": "stream",
     "text": [
      "\n",
      "Classification Report for full dataset:\n",
      "              precision    recall  f1-score   support\n",
      "\n",
      "           0       0.73      0.92      0.81      3077\n",
      "           1       0.87      0.32      0.46       953\n",
      "           2       0.00      0.00      0.00        45\n",
      "           3       0.66      0.59      0.62       912\n",
      "           4       0.00      0.00      0.00        13\n",
      "\n",
      "    accuracy                           0.73      5000\n",
      "   macro avg       0.45      0.36      0.38      5000\n",
      "weighted avg       0.74      0.73      0.70      5000\n",
      "\n"
     ]
    },
    {
     "name": "stderr",
     "output_type": "stream",
     "text": [
      "c:\\Users\\budia\\AppData\\Local\\Programs\\Python\\Python310\\lib\\site-packages\\sklearn\\metrics\\_classification.py:1509: UndefinedMetricWarning: Precision is ill-defined and being set to 0.0 in labels with no predicted samples. Use `zero_division` parameter to control this behavior.\n",
      "  _warn_prf(average, modifier, f\"{metric.capitalize()} is\", len(result))\n",
      "c:\\Users\\budia\\AppData\\Local\\Programs\\Python\\Python310\\lib\\site-packages\\sklearn\\metrics\\_classification.py:1509: UndefinedMetricWarning: Precision is ill-defined and being set to 0.0 in labels with no predicted samples. Use `zero_division` parameter to control this behavior.\n",
      "  _warn_prf(average, modifier, f\"{metric.capitalize()} is\", len(result))\n",
      "c:\\Users\\budia\\AppData\\Local\\Programs\\Python\\Python310\\lib\\site-packages\\sklearn\\metrics\\_classification.py:1509: UndefinedMetricWarning: Precision is ill-defined and being set to 0.0 in labels with no predicted samples. Use `zero_division` parameter to control this behavior.\n",
      "  _warn_prf(average, modifier, f\"{metric.capitalize()} is\", len(result))\n"
     ]
    }
   ],
   "source": [
    "print(\"\\nClassification Report for full dataset:\")\n",
    "print(classification_report(df_Y, dt_test))"
   ]
  },
  {
   "cell_type": "code",
   "execution_count": 10,
   "id": "2d987399",
   "metadata": {},
   "outputs": [
    {
     "name": "stdout",
     "output_type": "stream",
     "text": [
      "Akurasi per fold:\n",
      "0.7400, 0.6900, 0.7280, 0.7140, 0.7260, 0.7300, 0.7120, 0.7140, 0.6860, 0.7560\n",
      "\n",
      "Kinerja rata-rata: 0.7196\n",
      "Standar deviasi: 0.0202\n"
     ]
    }
   ],
   "source": [
    "# K-fold Cross Validation untuk Decision Tree\n",
    "seed = 7\n",
    "scoring = 'accuracy'\n",
    "kfold = model_selection.KFold(n_splits=10, random_state=seed, shuffle=True)\n",
    "dt_acc = model_selection.cross_val_score(model_dt, df_X, df_Y, cv=kfold, scoring=scoring)\n",
    "\n",
    "print(\"Akurasi per fold:\")\n",
    "print(\", \".join([f\"{acc:.4f}\" for acc in dt_acc]))\n",
    "print(\"\\nKinerja rata-rata: {:.4f}\".format(dt_acc.mean()))\n",
    "print(\"Standar deviasi: {:.4f}\".format(dt_acc.std()))\n"
   ]
  },
  {
   "cell_type": "code",
   "execution_count": 11,
   "id": "f1e4f933",
   "metadata": {},
   "outputs": [
    {
     "data": {
      "image/png": "[encoded data removed]",
      "text/plain": [
       "<Figure size 600x400 with 2 Axes>"
      ]
     },
     "metadata": {},
     "output_type": "display_data"
    }
   ],
   "source": [
    "from sklearn.metrics import confusion_matrix\n",
    "\n",
    "# Buat confusion matrix\n",
    "cm = confusion_matrix(df_Y, dt_test)\n",
    "\n",
    "# Heatmap confusion matrix\n",
    "plt.figure(figsize=(6, 4))\n",
    "sns.heatmap(cm, annot=True, fmt='d', cmap='Blues')\n",
    "plt.title(\"Confusion Matrix Heatmap\")\n",
    "plt.xlabel(\"Predicted\")\n",
    "plt.ylabel(\"Actual\")\n",
    "plt.show()"
   ]
  }
 ],
 "metadata": {
  "kernelspec": {
   "display_name": "Python 3",
   "language": "python",
   "name": "python3"
  },
  "language_info": {
   "codemirror_mode": {
    "name": "ipython",
    "version": 3
   },
   "file_extension": ".py",
   "mimetype": "text/x-python",
   "name": "python",
   "nbconvert_exporter": "python",
   "pygments_lexer": "ipython3",
   "version": "3.10.0"
  }
 },
 "nbformat": 4,
 "nbformat_minor": 5
}
