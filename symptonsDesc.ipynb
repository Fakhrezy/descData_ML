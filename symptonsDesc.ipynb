{
 "cells": [
  {
   "cell_type": "code",
   "execution_count": 96,
   "metadata": {},
   "outputs": [],
   "source": [
    "import pandas as pd\n",
    "import numpy as np\n",
    "import seaborn as sns\n",
    "import matplotlib.pyplot as plt\n",
    "from sklearn.preprocessing import StandardScaler"
   ]
  },
  {
   "cell_type": "code",
   "execution_count": 97,
   "metadata": {},
   "outputs": [
    {
     "name": "stdout",
     "output_type": "stream",
     "text": [
      "                    Name  Age  Gender Marital_Status   Fatigue   Slowing  \\\n",
      "0         Leslie Goodwin   68  Female         Single  0.698075  0.123064   \n",
      "1     Dr. Troy Castaneda   88    Male        Married  0.049245 -0.042080   \n",
      "2          Chelsey Allen   67  Female        Married  0.651995  0.187117   \n",
      "3  Dr. Devin Skinner DVM   95  Female        Widowed  0.036324  0.580808   \n",
      "4           Megan Mendez   81  Female        Widowed  0.926727  0.484202   \n",
      "\n",
      "       Pain   Hygiene  Movement       Schizophrenia  \n",
      "0  0.375303  0.234639  0.251869  Elevated Proneness  \n",
      "1  0.432807  0.501238  0.379948  Moderate Proneness  \n",
      "2       NaN  0.301942  0.302588  Elevated Proneness  \n",
      "3  0.005356  0.306968  0.813618  Moderate Proneness  \n",
      "4  0.702405  0.736054  0.579448      High Proneness  \n"
     ]
    }
   ],
   "source": [
    "file_path = \"dataset/schizo_symptons.csv\"  \n",
    "df = pd.read_csv(file_path)\n",
    "print(df.head())"
   ]
  },
  {
   "cell_type": "markdown",
   "metadata": {},
   "source": [
    "**1. Apa saja Fitur dataset dan tipe data masing-masing**"
   ]
  },
  {
   "cell_type": "code",
   "execution_count": 98,
   "metadata": {},
   "outputs": [
    {
     "name": "stdout",
     "output_type": "stream",
     "text": [
      "Informasi Dataset:\n",
      "<class 'pandas.core.frame.DataFrame'>\n",
      "RangeIndex: 5000 entries, 0 to 4999\n",
      "Data columns (total 10 columns):\n",
      " #   Column          Non-Null Count  Dtype  \n",
      "---  ------          --------------  -----  \n",
      " 0   Name            5000 non-null   object \n",
      " 1   Age             5000 non-null   int64  \n",
      " 2   Gender          5000 non-null   object \n",
      " 3   Marital_Status  5000 non-null   object \n",
      " 4   Fatigue         4756 non-null   float64\n",
      " 5   Slowing         4771 non-null   float64\n",
      " 6   Pain            4758 non-null   float64\n",
      " 7   Hygiene         5000 non-null   float64\n",
      " 8   Movement        5000 non-null   float64\n",
      " 9   Schizophrenia   5000 non-null   object \n",
      "dtypes: float64(5), int64(1), object(4)\n",
      "memory usage: 390.8+ KB\n",
      "None\n"
     ]
    }
   ],
   "source": [
    "print(\"Informasi Dataset:\")\n",
    "print(df.info())"
   ]
  },
  {
   "cell_type": "code",
   "execution_count": 99,
   "metadata": {},
   "outputs": [
    {
     "name": "stdout",
     "output_type": "stream",
     "text": [
      "\n",
      "Preview Dataset:\n",
      "                    Name  Age  Gender Marital_Status   Fatigue   Slowing  \\\n",
      "0         Leslie Goodwin   68  Female         Single  0.698075  0.123064   \n",
      "1     Dr. Troy Castaneda   88    Male        Married  0.049245 -0.042080   \n",
      "2          Chelsey Allen   67  Female        Married  0.651995  0.187117   \n",
      "3  Dr. Devin Skinner DVM   95  Female        Widowed  0.036324  0.580808   \n",
      "4           Megan Mendez   81  Female        Widowed  0.926727  0.484202   \n",
      "\n",
      "       Pain   Hygiene  Movement       Schizophrenia  \n",
      "0  0.375303  0.234639  0.251869  Elevated Proneness  \n",
      "1  0.432807  0.501238  0.379948  Moderate Proneness  \n",
      "2       NaN  0.301942  0.302588  Elevated Proneness  \n",
      "3  0.005356  0.306968  0.813618  Moderate Proneness  \n",
      "4  0.702405  0.736054  0.579448      High Proneness  \n"
     ]
    }
   ],
   "source": [
    "print(\"\\nPreview Dataset:\")\n",
    "print(df.head())"
   ]
  },
  {
   "cell_type": "markdown",
   "metadata": {},
   "source": [
    "**2. Menentukan Fitur target (jika ada) dan fitur variabel bebas**"
   ]
  },
  {
   "cell_type": "markdown",
   "metadata": {},
   "source": [
    "fitur target : Diagnosis"
   ]
  },
  {
   "cell_type": "code",
   "execution_count": 100,
   "metadata": {},
   "outputs": [
    {
     "name": "stdout",
     "output_type": "stream",
     "text": [
      "\n",
      "Fitur Target: Schizophrenia\n",
      "Fitur Variabel Bebas: ['Name', 'Age', 'Gender', 'Marital_Status', 'Fatigue', 'Slowing', 'Pain', 'Hygiene', 'Movement']\n"
     ]
    }
   ],
   "source": [
    "#cek kolom yg mengandung kata diagnosis atau label\n",
    "possible_targets = [col for col in df.columns if 'diagnosis' in col.lower() or 'label' in col.lower() or 'schizo' in col.lower()] \n",
    "# jika kolom mengandung kata diagnosis atau label, maka dijadikan target atau -> masuk dalam list possible_targets\n",
    "feature_target = possible_targets[0] if possible_targets else None #jika ada maka diambil indeks 0, jika tidak ada maka None\n",
    "# jika kolom tidak mengandung diagnosis atau label maka masuk ke dalam list feature_variables\n",
    "feature_variables = [col for col in df.columns if col != feature_target]\n",
    "\n",
    "print(\"\\nFitur Target:\", feature_target)\n",
    "print(\"Fitur Variabel Bebas:\", feature_variables)"
   ]
  },
  {
   "cell_type": "markdown",
   "metadata": {},
   "source": [
    "**3. Rentang nilai setiap fitur**"
   ]
  },
  {
   "cell_type": "code",
   "execution_count": 101,
   "metadata": {},
   "outputs": [
    {
     "name": "stdout",
     "output_type": "stream",
     "text": [
      "\n",
      "Rentang Nilai Fitur:\n",
      "              Age      Fatigue      Slowing         Pain      Hygiene  \\\n",
      "count  5000.00000  4756.000000  4771.000000  4758.000000  5000.000000   \n",
      "mean     74.83340     0.503835     0.499524     0.499612     0.499717   \n",
      "std       9.57787     0.296123     0.295365     0.294886     0.294907   \n",
      "min      55.00000    -0.095115    -0.094843    -0.095771    -0.094284   \n",
      "25%      67.00000     0.247056     0.245795     0.251174     0.248998   \n",
      "50%      75.00000     0.506278     0.502403     0.498051     0.501223   \n",
      "75%      83.00000     0.759499     0.744812     0.749946     0.751029   \n",
      "max      95.00000     1.091136     1.092146     1.090027     1.086922   \n",
      "\n",
      "          Movement  \n",
      "count  5000.000000  \n",
      "mean      0.499952  \n",
      "std       0.289860  \n",
      "min      -0.089272  \n",
      "25%       0.254143  \n",
      "50%       0.503340  \n",
      "75%       0.741253  \n",
      "max       1.088914  \n"
     ]
    }
   ],
   "source": [
    "print(\"\\nRentang Nilai Fitur:\")\n",
    "print(df.describe())"
   ]
  },
  {
   "cell_type": "markdown",
   "metadata": {},
   "source": [
    "**4. Ada tidaknya data null (ada)**"
   ]
  },
  {
   "cell_type": "code",
   "execution_count": 102,
   "metadata": {},
   "outputs": [
    {
     "name": "stdout",
     "output_type": "stream",
     "text": [
      "\n",
      "Jumlah Data Null per Fitur:\n",
      "Name                0\n",
      "Age                 0\n",
      "Gender              0\n",
      "Marital_Status      0\n",
      "Fatigue           244\n",
      "Slowing           229\n",
      "Pain              242\n",
      "Hygiene             0\n",
      "Movement            0\n",
      "Schizophrenia       0\n",
      "dtype: int64\n"
     ]
    }
   ],
   "source": [
    "# cek data null\n",
    "print(\"\\nJumlah Data Null per Fitur:\")\n",
    "print(df.isnull().sum()) #menghitung jumlah data null per fitur"
   ]
  },
  {
   "cell_type": "markdown",
   "metadata": {},
   "source": [
    "**5. Ada tidaknya data yang tidak konsisten (duplikat) -> (tidak ada)**"
   ]
  },
  {
   "cell_type": "code",
   "execution_count": 103,
   "metadata": {},
   "outputs": [
    {
     "name": "stdout",
     "output_type": "stream",
     "text": [
      "\n",
      "Jumlah Data Duplikat: 0\n"
     ]
    }
   ],
   "source": [
    "# cek data duplikat\n",
    "print(\"\\nJumlah Data Duplikat:\", df.duplicated().sum())"
   ]
  },
  {
   "cell_type": "markdown",
   "metadata": {},
   "source": [
    "**6. Perlu tidaknya transformasi data -> (tidak perlu)**"
   ]
  },
  {
   "cell_type": "code",
   "execution_count": 104,
   "metadata": {},
   "outputs": [
    {
     "name": "stdout",
     "output_type": "stream",
     "text": [
      "\n",
      "Fitur Kategorikal: ['Name', 'Gender', 'Marital_Status', 'Schizophrenia']\n",
      "Fitur Numerik: ['Age', 'Fatigue', 'Slowing', 'Pain', 'Hygiene', 'Movement']\n"
     ]
    }
   ],
   "source": [
    "# cek jika data bertipe objek, maka dimasukan ke dalam list categorical_features\n",
    "categorical_features = [col for col in df.columns if df[col].dtype == 'object']\n",
    "# cek jika data bertipe int64 atau float64, maka dimasukan ke dalam list numerical_features\n",
    "numerical_features = [col for col in df.columns if df[col].dtype in ['int64', 'float64']]\n",
    "\n",
    "print(\"\\nFitur Kategorikal:\", categorical_features)\n",
    "print(\"Fitur Numerik:\", numerical_features)"
   ]
  },
  {
   "cell_type": "code",
   "execution_count": 105,
   "metadata": {},
   "outputs": [
    {
     "data": {
      "text/plain": [
       "array(['Elevated Proneness', 'Moderate Proneness', 'High Proneness',\n",
       "       'Low Proneness', 'Very High Proneness'], dtype=object)"
      ]
     },
     "execution_count": 105,
     "metadata": {},
     "output_type": "execute_result"
    }
   ],
   "source": [
    "df['Schizophrenia'].unique()"
   ]
  },
  {
   "cell_type": "markdown",
   "metadata": {},
   "source": [
    "**7. Perlu tidaknya normalisasi data -> (perlu)**"
   ]
  },
  {
   "cell_type": "markdown",
   "metadata": {},
   "source": [
    "karna memiliki skala yang berbeda antar fitur"
   ]
  },
  {
   "cell_type": "code",
   "execution_count": 106,
   "metadata": {},
   "outputs": [
    {
     "name": "stdout",
     "output_type": "stream",
     "text": [
      "\n",
      "Data setelah Normalisasi (contoh 5 baris pertama):\n",
      "                    Name       Age  Gender Marital_Status   Fatigue   Slowing  \\\n",
      "0         Leslie Goodwin -0.713529  Female         Single  0.656012 -1.274690   \n",
      "1     Dr. Troy Castaneda  1.374827    Male        Married -1.535303 -1.833870   \n",
      "2          Chelsey Allen -0.817946  Female        Married  0.500383 -1.057810   \n",
      "3  Dr. Devin Skinner DVM  2.105752  Female        Widowed -1.578943  0.275228   \n",
      "4           Megan Mendez  0.643903  Female        Widowed  1.428246 -0.051878   \n",
      "\n",
      "       Pain   Hygiene  Movement       Schizophrenia  \n",
      "0 -0.421593 -0.898941 -0.855956  Elevated Proneness  \n",
      "1 -0.226569  0.005156 -0.414047  Moderate Proneness  \n",
      "2       NaN -0.670703 -0.680962  Elevated Proneness  \n",
      "3 -1.676267 -0.653659  1.082235  Moderate Proneness  \n",
      "4  0.687771  0.801472  0.274285      High Proneness  \n"
     ]
    }
   ],
   "source": [
    "# variabel menampung normalisasi data\n",
    "scaler = StandardScaler()\n",
    "# menyalin data\n",
    "df_normalized = df.copy()\n",
    "# menentukan skala normalisasi dan ubah data dalam rentang 0-1\n",
    "df_normalized[numerical_features] = scaler.fit_transform(df[numerical_features])\n",
    "\n",
    "print(\"\\nData setelah Normalisasi (contoh 5 baris pertama):\")\n",
    "print(df_normalized.head())"
   ]
  },
  {
   "cell_type": "code",
   "execution_count": 107,
   "metadata": {},
   "outputs": [
    {
     "name": "stdout",
     "output_type": "stream",
     "text": [
      "              Age      Fatigue      Slowing         Pain      Hygiene  \\\n",
      "count  5000.00000  4756.000000  4771.000000  4758.000000  5000.000000   \n",
      "mean     74.83340     0.503835     0.499524     0.499612     0.499717   \n",
      "std       9.57787     0.296123     0.295365     0.294886     0.294907   \n",
      "min      55.00000    -0.095115    -0.094843    -0.095771    -0.094284   \n",
      "25%      67.00000     0.247056     0.245795     0.251174     0.248998   \n",
      "50%      75.00000     0.506278     0.502403     0.498051     0.501223   \n",
      "75%      83.00000     0.759499     0.744812     0.749946     0.751029   \n",
      "max      95.00000     1.091136     1.092146     1.090027     1.086922   \n",
      "\n",
      "          Movement  \n",
      "count  5000.000000  \n",
      "mean      0.499952  \n",
      "std       0.289860  \n",
      "min      -0.089272  \n",
      "25%       0.254143  \n",
      "50%       0.503340  \n",
      "75%       0.741253  \n",
      "max       1.088914  \n"
     ]
    }
   ],
   "source": [
    "print(df[numerical_features].describe())"
   ]
  },
  {
   "cell_type": "markdown",
   "metadata": {},
   "source": [
    "**8. Apakah ada outlier (pencilan) -> (ada)**"
   ]
  },
  {
   "cell_type": "code",
   "execution_count": 108,
   "metadata": {},
   "outputs": [
    {
     "name": "stdout",
     "output_type": "stream",
     "text": [
      "\n",
      "Jumlah Outlier per Fitur:\n",
      "Age         0\n",
      "Fatigue     0\n",
      "Slowing     0\n",
      "Pain        0\n",
      "Hygiene     0\n",
      "Movement    0\n",
      "dtype: int64\n"
     ]
    }
   ],
   "source": [
    "# hitung kuartil 1 dari data numerik\n",
    "Q1 = df[numerical_features].quantile(0.25)\n",
    "# hitung kuartil 3 dari data numerik\n",
    "Q3 = df[numerical_features].quantile(0.75)\n",
    "# hitung Interquartile Range (IQR)\n",
    "IQR = Q3 - Q1\n",
    "# hitung jumlah outlier per fitur \n",
    "outliers = ((df[numerical_features] < (Q1 - 1.5 * IQR)) | #jika nilai lbh rendah dari batas bawah(outlier rendah)\n",
    "            (df[numerical_features] > (Q3 + 1.5 * IQR))) #jika nilai lbh besar dari batas atas(outlier tinggi)\n",
    "\n",
    "print(\"\\nJumlah Outlier per Fitur:\")\n",
    "print(outliers.sum()) # total outlier per fitur"
   ]
  },
  {
   "cell_type": "markdown",
   "metadata": {},
   "source": [
    "**9. Jika menggunakan data tidak terstruktur jelaskan teknik ekstraksi fitur yang digunakan -> (data terstruktur)**"
   ]
  },
  {
   "cell_type": "markdown",
   "metadata": {},
   "source": [
    "tidak ada teknik ekstraksi fitur karna tidak ada data teks yang digunakan"
   ]
  },
  {
   "cell_type": "markdown",
   "metadata": {},
   "source": [
    "https://www.kaggle.com/datasets/shree23yaa/schizophrenia-symptoms"
   ]
  },
  {
   "cell_type": "code",
   "execution_count": 109,
   "metadata": {},
   "outputs": [
    {
     "name": "stdout",
     "output_type": "stream",
     "text": [
      "<class 'pandas.core.frame.DataFrame'>\n",
      "RangeIndex: 5000 entries, 0 to 4999\n",
      "Data columns (total 10 columns):\n",
      " #   Column          Non-Null Count  Dtype  \n",
      "---  ------          --------------  -----  \n",
      " 0   Name            5000 non-null   object \n",
      " 1   Age             5000 non-null   int64  \n",
      " 2   Gender          5000 non-null   object \n",
      " 3   Marital_Status  5000 non-null   object \n",
      " 4   Fatigue         4756 non-null   float64\n",
      " 5   Slowing         4771 non-null   float64\n",
      " 6   Pain            4758 non-null   float64\n",
      " 7   Hygiene         5000 non-null   float64\n",
      " 8   Movement        5000 non-null   float64\n",
      " 9   Schizophrenia   5000 non-null   object \n",
      "dtypes: float64(5), int64(1), object(4)\n",
      "memory usage: 390.8+ KB\n"
     ]
    }
   ],
   "source": [
    "df.info()"
   ]
  },
  {
   "cell_type": "code",
   "execution_count": 110,
   "metadata": {},
   "outputs": [
    {
     "name": "stdout",
     "output_type": "stream",
     "text": [
      "Name                0\n",
      "Age                 0\n",
      "Gender              0\n",
      "Marital_Status      0\n",
      "Fatigue           244\n",
      "Slowing           229\n",
      "Pain              242\n",
      "Hygiene             0\n",
      "Movement            0\n",
      "Schizophrenia       0\n",
      "dtype: int64\n"
     ]
    }
   ],
   "source": [
    "print(df.isnull().sum())"
   ]
  },
  {
   "cell_type": "code",
   "execution_count": 111,
   "metadata": {},
   "outputs": [
    {
     "name": "stdout",
     "output_type": "stream",
     "text": [
      "Name              5000\n",
      "Age               5000\n",
      "Gender            5000\n",
      "Marital_Status    5000\n",
      "Fatigue           4756\n",
      "Slowing           4771\n",
      "Pain              4758\n",
      "Hygiene           5000\n",
      "Movement          5000\n",
      "Schizophrenia     5000\n",
      "dtype: int64\n"
     ]
    }
   ],
   "source": [
    "print(df.notnull().sum())"
   ]
  },
  {
   "cell_type": "code",
   "execution_count": 112,
   "metadata": {},
   "outputs": [
    {
     "name": "stdout",
     "output_type": "stream",
     "text": [
      "<class 'pandas.core.frame.DataFrame'>\n",
      "Index: 4318 entries, 0 to 4999\n",
      "Data columns (total 10 columns):\n",
      " #   Column          Non-Null Count  Dtype  \n",
      "---  ------          --------------  -----  \n",
      " 0   Name            4318 non-null   object \n",
      " 1   Age             4318 non-null   int64  \n",
      " 2   Gender          4318 non-null   object \n",
      " 3   Marital_Status  4318 non-null   object \n",
      " 4   Fatigue         4318 non-null   float64\n",
      " 5   Slowing         4318 non-null   float64\n",
      " 6   Pain            4318 non-null   float64\n",
      " 7   Hygiene         4318 non-null   float64\n",
      " 8   Movement        4318 non-null   float64\n",
      " 9   Schizophrenia   4318 non-null   object \n",
      "dtypes: float64(5), int64(1), object(4)\n",
      "memory usage: 371.1+ KB\n",
      "None\n"
     ]
    }
   ],
   "source": [
    "df = df.dropna(axis=0)\n",
    "df = df.drop_duplicates()\n",
    "\n",
    "print(df.info())"
   ]
  },
  {
   "cell_type": "code",
   "execution_count": 113,
   "metadata": {},
   "outputs": [
    {
     "data": {
      "application/vnd.microsoft.datawrangler.viewer.v0+json": {
       "columns": [
        {
         "name": "index",
         "rawType": "int64",
         "type": "integer"
        },
        {
         "name": "Name",
         "rawType": "object",
         "type": "string"
        },
        {
         "name": "Age",
         "rawType": "int64",
         "type": "integer"
        },
        {
         "name": "Gender",
         "rawType": "object",
         "type": "string"
        },
        {
         "name": "Marital_Status",
         "rawType": "object",
         "type": "string"
        },
        {
         "name": "Fatigue",
         "rawType": "float64",
         "type": "float"
        },
        {
         "name": "Slowing",
         "rawType": "float64",
         "type": "float"
        },
        {
         "name": "Pain",
         "rawType": "float64",
         "type": "float"
        },
        {
         "name": "Hygiene",
         "rawType": "float64",
         "type": "float"
        },
        {
         "name": "Movement",
         "rawType": "float64",
         "type": "float"
        },
        {
         "name": "Schizophrenia",
         "rawType": "object",
         "type": "string"
        }
       ],
       "conversionMethod": "pd.DataFrame",
       "ref": "6fd8610f-e9db-4b07-aab3-e384d9778002",
       "rows": [
        [
         "0",
         "Leslie Goodwin",
         "68",
         "Female",
         "Single",
         "0.6980750130066736",
         "0.1230644922883633",
         "0.3753027444010162",
         "0.2346393495932713",
         "0.2518694466408488",
         "Elevated Proneness"
        ],
        [
         "1",
         "Dr. Troy Castaneda",
         "88",
         "Male",
         "Married",
         "0.0492450524842216",
         "-0.0420800435388957",
         "0.432806602363974",
         "0.5012377645017583",
         "0.3799482881030315",
         "Moderate Proneness"
        ],
        [
         "3",
         "Dr. Devin Skinner DVM",
         "95",
         "Female",
         "Widowed",
         "0.0363237389187373",
         "0.5808079689048639",
         "0.0053555198838411",
         "0.3069676027888867",
         "0.8136175955953819",
         "Moderate Proneness"
        ],
        [
         "4",
         "Megan Mendez",
         "81",
         "Female",
         "Widowed",
         "0.9267269519411884",
         "0.4842023674763164",
         "0.7024046272534654",
         "0.7360538079570458",
         "0.5794484368643991",
         "High Proneness"
        ],
        [
         "5",
         "Zachary Smith DVM",
         "77",
         "Male",
         "Married",
         "0.1455405555875956",
         "0.7376557163866846",
         "0.3696298585051872",
         "0.2064711234205931",
         "0.8906836269554461",
         "Elevated Proneness"
        ]
       ],
       "shape": {
        "columns": 10,
        "rows": 5
       }
      },
      "text/html": [
       "<div>\n",
       "<style scoped>\n",
       "    .dataframe tbody tr th:only-of-type {\n",
       "        vertical-align: middle;\n",
       "    }\n",
       "\n",
       "    .dataframe tbody tr th {\n",
       "        vertical-align: top;\n",
       "    }\n",
       "\n",
       "    .dataframe thead th {\n",
       "        text-align: right;\n",
       "    }\n",
       "</style>\n",
       "<table border=\"1\" class=\"dataframe\">\n",
       "  <thead>\n",
       "    <tr style=\"text-align: right;\">\n",
       "      <th></th>\n",
       "      <th>Name</th>\n",
       "      <th>Age</th>\n",
       "      <th>Gender</th>\n",
       "      <th>Marital_Status</th>\n",
       "      <th>Fatigue</th>\n",
       "      <th>Slowing</th>\n",
       "      <th>Pain</th>\n",
       "      <th>Hygiene</th>\n",
       "      <th>Movement</th>\n",
       "      <th>Schizophrenia</th>\n",
       "    </tr>\n",
       "  </thead>\n",
       "  <tbody>\n",
       "    <tr>\n",
       "      <th>0</th>\n",
       "      <td>Leslie Goodwin</td>\n",
       "      <td>68</td>\n",
       "      <td>Female</td>\n",
       "      <td>Single</td>\n",
       "      <td>0.698075</td>\n",
       "      <td>0.123064</td>\n",
       "      <td>0.375303</td>\n",
       "      <td>0.234639</td>\n",
       "      <td>0.251869</td>\n",
       "      <td>Elevated Proneness</td>\n",
       "    </tr>\n",
       "    <tr>\n",
       "      <th>1</th>\n",
       "      <td>Dr. Troy Castaneda</td>\n",
       "      <td>88</td>\n",
       "      <td>Male</td>\n",
       "      <td>Married</td>\n",
       "      <td>0.049245</td>\n",
       "      <td>-0.042080</td>\n",
       "      <td>0.432807</td>\n",
       "      <td>0.501238</td>\n",
       "      <td>0.379948</td>\n",
       "      <td>Moderate Proneness</td>\n",
       "    </tr>\n",
       "    <tr>\n",
       "      <th>3</th>\n",
       "      <td>Dr. Devin Skinner DVM</td>\n",
       "      <td>95</td>\n",
       "      <td>Female</td>\n",
       "      <td>Widowed</td>\n",
       "      <td>0.036324</td>\n",
       "      <td>0.580808</td>\n",
       "      <td>0.005356</td>\n",
       "      <td>0.306968</td>\n",
       "      <td>0.813618</td>\n",
       "      <td>Moderate Proneness</td>\n",
       "    </tr>\n",
       "    <tr>\n",
       "      <th>4</th>\n",
       "      <td>Megan Mendez</td>\n",
       "      <td>81</td>\n",
       "      <td>Female</td>\n",
       "      <td>Widowed</td>\n",
       "      <td>0.926727</td>\n",
       "      <td>0.484202</td>\n",
       "      <td>0.702405</td>\n",
       "      <td>0.736054</td>\n",
       "      <td>0.579448</td>\n",
       "      <td>High Proneness</td>\n",
       "    </tr>\n",
       "    <tr>\n",
       "      <th>5</th>\n",
       "      <td>Zachary Smith DVM</td>\n",
       "      <td>77</td>\n",
       "      <td>Male</td>\n",
       "      <td>Married</td>\n",
       "      <td>0.145541</td>\n",
       "      <td>0.737656</td>\n",
       "      <td>0.369630</td>\n",
       "      <td>0.206471</td>\n",
       "      <td>0.890684</td>\n",
       "      <td>Elevated Proneness</td>\n",
       "    </tr>\n",
       "  </tbody>\n",
       "</table>\n",
       "</div>"
      ],
      "text/plain": [
       "                    Name  Age  Gender Marital_Status   Fatigue   Slowing  \\\n",
       "0         Leslie Goodwin   68  Female         Single  0.698075  0.123064   \n",
       "1     Dr. Troy Castaneda   88    Male        Married  0.049245 -0.042080   \n",
       "3  Dr. Devin Skinner DVM   95  Female        Widowed  0.036324  0.580808   \n",
       "4           Megan Mendez   81  Female        Widowed  0.926727  0.484202   \n",
       "5      Zachary Smith DVM   77    Male        Married  0.145541  0.737656   \n",
       "\n",
       "       Pain   Hygiene  Movement       Schizophrenia  \n",
       "0  0.375303  0.234639  0.251869  Elevated Proneness  \n",
       "1  0.432807  0.501238  0.379948  Moderate Proneness  \n",
       "3  0.005356  0.306968  0.813618  Moderate Proneness  \n",
       "4  0.702405  0.736054  0.579448      High Proneness  \n",
       "5  0.369630  0.206471  0.890684  Elevated Proneness  "
      ]
     },
     "execution_count": 113,
     "metadata": {},
     "output_type": "execute_result"
    }
   ],
   "source": [
    "df.head()"
   ]
  },
  {
   "cell_type": "code",
   "execution_count": 114,
   "metadata": {},
   "outputs": [
    {
     "name": "stdout",
     "output_type": "stream",
     "text": [
      "<class 'pandas.core.frame.DataFrame'>\n",
      "Index: 4318 entries, 0 to 4999\n",
      "Data columns (total 10 columns):\n",
      " #   Column          Non-Null Count  Dtype  \n",
      "---  ------          --------------  -----  \n",
      " 0   Name            4318 non-null   object \n",
      " 1   Age             4318 non-null   int64  \n",
      " 2   Gender          4318 non-null   int32  \n",
      " 3   Marital_Status  4318 non-null   int32  \n",
      " 4   Fatigue         4318 non-null   float64\n",
      " 5   Slowing         4318 non-null   float64\n",
      " 6   Pain            4318 non-null   float64\n",
      " 7   Hygiene         4318 non-null   float64\n",
      " 8   Movement        4318 non-null   float64\n",
      " 9   Schizophrenia   4318 non-null   object \n",
      "dtypes: float64(5), int32(2), int64(1), object(2)\n",
      "memory usage: 337.3+ KB\n",
      "None\n"
     ]
    }
   ],
   "source": [
    "from sklearn.preprocessing import LabelEncoder\n",
    "# ubah kolom categorical menjadi numerik\n",
    "\n",
    "le_gender = LabelEncoder()\n",
    "df['Gender'] = le_gender.fit_transform(df['Gender'])  # Male=1, Female=0\n",
    "\n",
    "le_marital = LabelEncoder()\n",
    "df['Marital_Status'] = le_marital.fit_transform(df['Marital_Status'])\n",
    "\n",
    "# le_target = LabelEncoder()\n",
    "# df['Schizophrenia'] = le_target.fit_transform(df['Schizophrenia'])\n",
    "\n",
    "print(df.info())"
   ]
  },
  {
   "cell_type": "markdown",
   "metadata": {},
   "source": [
    "- female:0, male:1\n",
    "- single:2, married:1, widowed:3"
   ]
  },
  {
   "cell_type": "code",
   "execution_count": 115,
   "metadata": {},
   "outputs": [
    {
     "data": {
      "application/vnd.microsoft.datawrangler.viewer.v0+json": {
       "columns": [
        {
         "name": "index",
         "rawType": "int64",
         "type": "integer"
        },
        {
         "name": "Name",
         "rawType": "object",
         "type": "string"
        },
        {
         "name": "Age",
         "rawType": "int64",
         "type": "integer"
        },
        {
         "name": "Gender",
         "rawType": "int32",
         "type": "integer"
        },
        {
         "name": "Marital_Status",
         "rawType": "int32",
         "type": "integer"
        },
        {
         "name": "Fatigue",
         "rawType": "float64",
         "type": "float"
        },
        {
         "name": "Slowing",
         "rawType": "float64",
         "type": "float"
        },
        {
         "name": "Pain",
         "rawType": "float64",
         "type": "float"
        },
        {
         "name": "Hygiene",
         "rawType": "float64",
         "type": "float"
        },
        {
         "name": "Movement",
         "rawType": "float64",
         "type": "float"
        },
        {
         "name": "Schizophrenia",
         "rawType": "object",
         "type": "string"
        }
       ],
       "conversionMethod": "pd.DataFrame",
       "ref": "e502a44c-ed65-4add-98c5-dc1f1cf98201",
       "rows": [
        [
         "0",
         "Leslie Goodwin",
         "68",
         "0",
         "2",
         "0.6980750130066736",
         "0.1230644922883633",
         "0.3753027444010162",
         "0.2346393495932713",
         "0.2518694466408488",
         "Elevated Proneness"
        ],
        [
         "1",
         "Dr. Troy Castaneda",
         "88",
         "1",
         "1",
         "0.0492450524842216",
         "-0.0420800435388957",
         "0.432806602363974",
         "0.5012377645017583",
         "0.3799482881030315",
         "Moderate Proneness"
        ],
        [
         "3",
         "Dr. Devin Skinner DVM",
         "95",
         "0",
         "3",
         "0.0363237389187373",
         "0.5808079689048639",
         "0.0053555198838411",
         "0.3069676027888867",
         "0.8136175955953819",
         "Moderate Proneness"
        ],
        [
         "4",
         "Megan Mendez",
         "81",
         "0",
         "3",
         "0.9267269519411884",
         "0.4842023674763164",
         "0.7024046272534654",
         "0.7360538079570458",
         "0.5794484368643991",
         "High Proneness"
        ],
        [
         "5",
         "Zachary Smith DVM",
         "77",
         "1",
         "1",
         "0.1455405555875956",
         "0.7376557163866846",
         "0.3696298585051872",
         "0.2064711234205931",
         "0.8906836269554461",
         "Elevated Proneness"
        ]
       ],
       "shape": {
        "columns": 10,
        "rows": 5
       }
      },
      "text/html": [
       "<div>\n",
       "<style scoped>\n",
       "    .dataframe tbody tr th:only-of-type {\n",
       "        vertical-align: middle;\n",
       "    }\n",
       "\n",
       "    .dataframe tbody tr th {\n",
       "        vertical-align: top;\n",
       "    }\n",
       "\n",
       "    .dataframe thead th {\n",
       "        text-align: right;\n",
       "    }\n",
       "</style>\n",
       "<table border=\"1\" class=\"dataframe\">\n",
       "  <thead>\n",
       "    <tr style=\"text-align: right;\">\n",
       "      <th></th>\n",
       "      <th>Name</th>\n",
       "      <th>Age</th>\n",
       "      <th>Gender</th>\n",
       "      <th>Marital_Status</th>\n",
       "      <th>Fatigue</th>\n",
       "      <th>Slowing</th>\n",
       "      <th>Pain</th>\n",
       "      <th>Hygiene</th>\n",
       "      <th>Movement</th>\n",
       "      <th>Schizophrenia</th>\n",
       "    </tr>\n",
       "  </thead>\n",
       "  <tbody>\n",
       "    <tr>\n",
       "      <th>0</th>\n",
       "      <td>Leslie Goodwin</td>\n",
       "      <td>68</td>\n",
       "      <td>0</td>\n",
       "      <td>2</td>\n",
       "      <td>0.698075</td>\n",
       "      <td>0.123064</td>\n",
       "      <td>0.375303</td>\n",
       "      <td>0.234639</td>\n",
       "      <td>0.251869</td>\n",
       "      <td>Elevated Proneness</td>\n",
       "    </tr>\n",
       "    <tr>\n",
       "      <th>1</th>\n",
       "      <td>Dr. Troy Castaneda</td>\n",
       "      <td>88</td>\n",
       "      <td>1</td>\n",
       "      <td>1</td>\n",
       "      <td>0.049245</td>\n",
       "      <td>-0.042080</td>\n",
       "      <td>0.432807</td>\n",
       "      <td>0.501238</td>\n",
       "      <td>0.379948</td>\n",
       "      <td>Moderate Proneness</td>\n",
       "    </tr>\n",
       "    <tr>\n",
       "      <th>3</th>\n",
       "      <td>Dr. Devin Skinner DVM</td>\n",
       "      <td>95</td>\n",
       "      <td>0</td>\n",
       "      <td>3</td>\n",
       "      <td>0.036324</td>\n",
       "      <td>0.580808</td>\n",
       "      <td>0.005356</td>\n",
       "      <td>0.306968</td>\n",
       "      <td>0.813618</td>\n",
       "      <td>Moderate Proneness</td>\n",
       "    </tr>\n",
       "    <tr>\n",
       "      <th>4</th>\n",
       "      <td>Megan Mendez</td>\n",
       "      <td>81</td>\n",
       "      <td>0</td>\n",
       "      <td>3</td>\n",
       "      <td>0.926727</td>\n",
       "      <td>0.484202</td>\n",
       "      <td>0.702405</td>\n",
       "      <td>0.736054</td>\n",
       "      <td>0.579448</td>\n",
       "      <td>High Proneness</td>\n",
       "    </tr>\n",
       "    <tr>\n",
       "      <th>5</th>\n",
       "      <td>Zachary Smith DVM</td>\n",
       "      <td>77</td>\n",
       "      <td>1</td>\n",
       "      <td>1</td>\n",
       "      <td>0.145541</td>\n",
       "      <td>0.737656</td>\n",
       "      <td>0.369630</td>\n",
       "      <td>0.206471</td>\n",
       "      <td>0.890684</td>\n",
       "      <td>Elevated Proneness</td>\n",
       "    </tr>\n",
       "  </tbody>\n",
       "</table>\n",
       "</div>"
      ],
      "text/plain": [
       "                    Name  Age  Gender  Marital_Status   Fatigue   Slowing  \\\n",
       "0         Leslie Goodwin   68       0               2  0.698075  0.123064   \n",
       "1     Dr. Troy Castaneda   88       1               1  0.049245 -0.042080   \n",
       "3  Dr. Devin Skinner DVM   95       0               3  0.036324  0.580808   \n",
       "4           Megan Mendez   81       0               3  0.926727  0.484202   \n",
       "5      Zachary Smith DVM   77       1               1  0.145541  0.737656   \n",
       "\n",
       "       Pain   Hygiene  Movement       Schizophrenia  \n",
       "0  0.375303  0.234639  0.251869  Elevated Proneness  \n",
       "1  0.432807  0.501238  0.379948  Moderate Proneness  \n",
       "3  0.005356  0.306968  0.813618  Moderate Proneness  \n",
       "4  0.702405  0.736054  0.579448      High Proneness  \n",
       "5  0.369630  0.206471  0.890684  Elevated Proneness  "
      ]
     },
     "execution_count": 115,
     "metadata": {},
     "output_type": "execute_result"
    }
   ],
   "source": [
    "df.head()"
   ]
  },
  {
   "cell_type": "code",
   "execution_count": 116,
   "metadata": {},
   "outputs": [],
   "source": [
    "df.to_excel(\"dataset/schizo_symptons_cleaned.xlsx\", index=False)"
   ]
  }
 ],
 "metadata": {
  "kernelspec": {
   "display_name": "Python 3",
   "language": "python",
   "name": "python3"
  },
  "language_info": {
   "codemirror_mode": {
    "name": "ipython",
    "version": 3
   },
   "file_extension": ".py",
   "mimetype": "text/x-python",
   "name": "python",
   "nbconvert_exporter": "python",
   "pygments_lexer": "ipython3",
   "version": "3.11.9"
  }
 },
 "nbformat": 4,
 "nbformat_minor": 2
}
