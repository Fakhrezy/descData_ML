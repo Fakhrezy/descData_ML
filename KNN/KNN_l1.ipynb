{
 "cells": [
  {
   "cell_type": "code",
   "execution_count": 1,
   "id": "bf5fc4f8",
   "metadata": {},
   "outputs": [],
   "source": [
    "import pandas as pd\n",
    "import matplotlib.pyplot as plt\n",
    "from sklearn import model_selection\n",
    "from sklearn.neighbors import KNeighborsClassifier\n",
    "from sklearn.preprocessing import LabelEncoder\n",
    "import seaborn as sns\n",
    "from sklearn.metrics import classification_report\n",
    "# from sklearn.preprocessing import StandardScaler, MinMaxScaler, Normalizer\n",
    "import numpy as np\n"
   ]
  },
  {
   "cell_type": "code",
   "execution_count": 2,
   "id": "4e71e956",
   "metadata": {},
   "outputs": [
    {
     "name": "stdout",
     "output_type": "stream",
     "text": [
      "        Age  Gender  Marital_Status   Fatigue   Slowing      Pain   Hygiene  \\\n",
      "0  0.975848       0               2  0.010018  0.001766  0.005386  0.003367   \n",
      "1  0.984281       1               1  0.000551 -0.000471  0.004841  0.005606   \n",
      "2  0.971814       0               1  0.009457  0.002714  0.007247  0.004380   \n",
      "3  0.981982       0               3  0.000375  0.006004  0.000055  0.003173   \n",
      "4  0.959388       0               3  0.010976  0.005735  0.008319  0.008718   \n",
      "\n",
      "   Movement  Schizophrenia  \n",
      "0  0.003615              0  \n",
      "1  0.004250              3  \n",
      "2  0.004389              0  \n",
      "3  0.008410              3  \n",
      "4  0.006863              1  \n"
     ]
    }
   ],
   "source": [
    "file_path = \"../dataset/schizo_symptons_cleaned_L1.xlsx\"  \n",
    "df = pd.read_excel(file_path)\n",
    "print(df.head())"
   ]
  },
  {
   "cell_type": "code",
   "execution_count": 3,
   "id": "f3772089",
   "metadata": {},
   "outputs": [
    {
     "name": "stdout",
     "output_type": "stream",
     "text": [
      "               Age       Gender  Marital_Status      Fatigue      Slowing  \\\n",
      "count  5000.000000  5000.000000     5000.000000  5000.000000  5000.000000   \n",
      "mean      0.967083     0.498000        1.483000     0.006602     0.006549   \n",
      "std       0.009190     0.500046        1.130472     0.003877     0.003892   \n",
      "min       0.928099     0.000000        0.000000    -0.001228    -0.001494   \n",
      "25%       0.961177     0.000000        0.000000     0.003413     0.003358   \n",
      "50%       0.967709     0.000000        1.000000     0.006575     0.006511   \n",
      "75%       0.973506     1.000000        3.000000     0.009664     0.009522   \n",
      "max       0.991696     1.000000        3.000000     0.017332     0.018263   \n",
      "\n",
      "              Pain      Hygiene     Movement  Schizophrenia  \n",
      "count  5000.000000  5000.000000  5000.000000    5000.000000  \n",
      "mean      0.006543     0.006546     0.006564       0.766200  \n",
      "std       0.003877     0.003966     0.003916       1.150218  \n",
      "min      -0.001299    -0.001562    -0.001128       0.000000  \n",
      "25%       0.003432     0.003224     0.003308       0.000000  \n",
      "50%       0.006422     0.006550     0.006513       0.000000  \n",
      "75%       0.009473     0.009671     0.009612       1.000000  \n",
      "max       0.018027     0.017665     0.016908       4.000000  \n"
     ]
    }
   ],
   "source": [
    "print(df.describe())\n"
   ]
  },
  {
   "cell_type": "code",
   "execution_count": 4,
   "id": "ab5177f3",
   "metadata": {},
   "outputs": [
    {
     "name": "stdout",
     "output_type": "stream",
     "text": [
      "<class 'pandas.core.frame.DataFrame'>\n",
      "RangeIndex: 5000 entries, 0 to 4999\n",
      "Data columns (total 9 columns):\n",
      " #   Column          Non-Null Count  Dtype  \n",
      "---  ------          --------------  -----  \n",
      " 0   Age             5000 non-null   float64\n",
      " 1   Gender          5000 non-null   int64  \n",
      " 2   Marital_Status  5000 non-null   int64  \n",
      " 3   Fatigue         5000 non-null   float64\n",
      " 4   Slowing         5000 non-null   float64\n",
      " 5   Pain            5000 non-null   float64\n",
      " 6   Hygiene         5000 non-null   float64\n",
      " 7   Movement        5000 non-null   float64\n",
      " 8   Schizophrenia   5000 non-null   int64  \n",
      "dtypes: float64(6), int64(3)\n",
      "memory usage: 351.7 KB\n",
      "None\n"
     ]
    }
   ],
   "source": [
    "print(df.info())"
   ]
  },
  {
   "cell_type": "code",
   "execution_count": 5,
   "id": "748fa11b",
   "metadata": {},
   "outputs": [],
   "source": [
    "# Pisahkan fitur (X) dan label (Y)\n",
    "df_X = df.drop(columns=['Schizophrenia'])  # semua fitur numerik\n",
    "df_Y = df['Schizophrenia']  # target klasifikasi"
   ]
  },
  {
   "cell_type": "code",
   "execution_count": 6,
   "id": "14441707",
   "metadata": {},
   "outputs": [],
   "source": [
    "# Konversi kembali menjadi DataFrame dengan kolom yang sesuai\n",
    "column_label = df.drop(columns=['Schizophrenia']).columns  \n",
    "df_X = pd.DataFrame(df_X, columns=column_label)"
   ]
  },
  {
   "cell_type": "code",
   "execution_count": 7,
   "id": "3e59c1d9",
   "metadata": {},
   "outputs": [
    {
     "name": "stdout",
     "output_type": "stream",
     "text": [
      "        Age  Gender  Marital_Status   Fatigue   Slowing      Pain   Hygiene  \\\n",
      "0  0.975848       0               2  0.010018  0.001766  0.005386  0.003367   \n",
      "1  0.984281       1               1  0.000551 -0.000471  0.004841  0.005606   \n",
      "2  0.971814       0               1  0.009457  0.002714  0.007247  0.004380   \n",
      "3  0.981982       0               3  0.000375  0.006004  0.000055  0.003173   \n",
      "4  0.959388       0               3  0.010976  0.005735  0.008319  0.008718   \n",
      "\n",
      "   Movement  \n",
      "0  0.003615  \n",
      "1  0.004250  \n",
      "2  0.004389  \n",
      "3  0.008410  \n",
      "4  0.006863  \n"
     ]
    }
   ],
   "source": [
    "print(df_X.head())"
   ]
  },
  {
   "cell_type": "markdown",
   "id": "b9616ea0",
   "metadata": {},
   "source": [
    "**contoh menentukan k**\n",
    "* K ≈ √N\n",
    "* K ≈ √5000 ≈ 70.7 → K = 70 (dibulatkan ke bawah atau atas)"
   ]
  },
  {
   "cell_type": "code",
   "execution_count": 8,
   "id": "cc66d32d",
   "metadata": {},
   "outputs": [],
   "source": [
    "k = 6\n",
    "model_knn = KNeighborsClassifier(n_neighbors=k)\n",
    "model_knn.fit(df_X, df_Y)\n",
    "knn_test = model_knn.predict(df_X)"
   ]
  },
  {
   "cell_type": "code",
   "execution_count": 9,
   "id": "9c38d36f",
   "metadata": {},
   "outputs": [
    {
     "name": "stdout",
     "output_type": "stream",
     "text": [
      "\n",
      "Classification Report for full dataset:\n",
      "              precision    recall  f1-score   support\n",
      "\n",
      "           0       0.82      0.94      0.88      3077\n",
      "           1       0.82      0.65      0.73       953\n",
      "           2       0.81      0.38      0.52        45\n",
      "           3       0.89      0.66      0.75       912\n",
      "           4       0.00      0.00      0.00        13\n",
      "\n",
      "    accuracy                           0.83      5000\n",
      "   macro avg       0.67      0.53      0.57      5000\n",
      "weighted avg       0.83      0.83      0.82      5000\n",
      "\n"
     ]
    },
    {
     "name": "stderr",
     "output_type": "stream",
     "text": [
      "C:\\Users\\LENOVO\\AppData\\Local\\Packages\\PythonSoftwareFoundation.Python.3.11_qbz5n2kfra8p0\\LocalCache\\local-packages\\Python311\\site-packages\\sklearn\\metrics\\_classification.py:1509: UndefinedMetricWarning: Precision is ill-defined and being set to 0.0 in labels with no predicted samples. Use `zero_division` parameter to control this behavior.\n",
      "  _warn_prf(average, modifier, f\"{metric.capitalize()} is\", len(result))\n",
      "C:\\Users\\LENOVO\\AppData\\Local\\Packages\\PythonSoftwareFoundation.Python.3.11_qbz5n2kfra8p0\\LocalCache\\local-packages\\Python311\\site-packages\\sklearn\\metrics\\_classification.py:1509: UndefinedMetricWarning: Precision is ill-defined and being set to 0.0 in labels with no predicted samples. Use `zero_division` parameter to control this behavior.\n",
      "  _warn_prf(average, modifier, f\"{metric.capitalize()} is\", len(result))\n",
      "C:\\Users\\LENOVO\\AppData\\Local\\Packages\\PythonSoftwareFoundation.Python.3.11_qbz5n2kfra8p0\\LocalCache\\local-packages\\Python311\\site-packages\\sklearn\\metrics\\_classification.py:1509: UndefinedMetricWarning: Precision is ill-defined and being set to 0.0 in labels with no predicted samples. Use `zero_division` parameter to control this behavior.\n",
      "  _warn_prf(average, modifier, f\"{metric.capitalize()} is\", len(result))\n"
     ]
    }
   ],
   "source": [
    "print(\"\\nClassification Report for full dataset:\")\n",
    "print(classification_report(df_Y, knn_test))"
   ]
  },
  {
   "cell_type": "code",
   "execution_count": 10,
   "id": "2d987399",
   "metadata": {},
   "outputs": [
    {
     "name": "stdout",
     "output_type": "stream",
     "text": [
      "Akurasi per fold:\n",
      "0.7720, 0.7620, 0.7720, 0.7720, 0.7680, 0.8120, 0.7700, 0.7460, 0.7880, 0.7720\n",
      "\n",
      "Kinerja rata-rata: 0.7734\n",
      "Standar deviasi: 0.0162\n"
     ]
    }
   ],
   "source": [
    "# K-fold Cross Validation\n",
    "seed = 7\n",
    "scoring = 'accuracy'\n",
    "kfold = model_selection.KFold(n_splits=10, random_state=seed, shuffle=True)\n",
    "knn_acc = model_selection.cross_val_score(model_knn, df_X, df_Y, cv=kfold, scoring=scoring)\n",
    "\n",
    "print(\"Akurasi per fold:\")\n",
    "print(\", \".join([f\"{acc:.4f}\" for acc in knn_acc]))\n",
    "print(\"\\nKinerja rata-rata: {:.4f}\".format(knn_acc.mean()))\n",
    "print(\"Standar deviasi: {:.4f}\".format(knn_acc.std()))"
   ]
  },
  {
   "cell_type": "code",
   "execution_count": 11,
   "id": "6c4d831e",
   "metadata": {},
   "outputs": [
    {
     "data": {
      "image/png": "[encoded data removed]",
      "text/plain": [
       "<Figure size 600x400 with 2 Axes>"
      ]
     },
     "metadata": {},
     "output_type": "display_data"
    }
   ],
   "source": [
    "from sklearn.metrics import confusion_matrix\n",
    "\n",
    "# Buat confusion matrix\n",
    "cm = confusion_matrix(df_Y, knn_test)\n",
    "\n",
    "# Heatmap confusion matrix\n",
    "plt.figure(figsize=(6, 4))\n",
    "sns.heatmap(cm, annot=True, fmt='d', cmap='Blues')\n",
    "plt.title(\"Confusion Matrix Heatmap\")\n",
    "plt.xlabel(\"Predicted\")\n",
    "plt.ylabel(\"Actual\")\n",
    "plt.show()"
   ]
  }
 ],
 "metadata": {
  "kernelspec": {
   "display_name": "Python 3",
   "language": "python",
   "name": "python3"
  },
  "language_info": {
   "codemirror_mode": {
    "name": "ipython",
    "version": 3
   },
   "file_extension": ".py",
   "mimetype": "text/x-python",
   "name": "python",
   "nbconvert_exporter": "python",
   "pygments_lexer": "ipython3",
   "version": "3.11.9"
  }
 },
 "nbformat": 4,
 "nbformat_minor": 5
}
