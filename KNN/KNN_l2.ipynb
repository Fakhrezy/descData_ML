{
 "cells": [
  {
   "cell_type": "code",
   "execution_count": 1,
   "id": "bf5fc4f8",
   "metadata": {},
   "outputs": [],
   "source": [
    "import pandas as pd\n",
    "import matplotlib.pyplot as plt\n",
    "from sklearn import model_selection\n",
    "from sklearn.neighbors import KNeighborsClassifier\n",
    "from sklearn.preprocessing import LabelEncoder\n",
    "import seaborn as sns\n",
    "from sklearn.metrics import classification_report\n",
    "# from sklearn.preprocessing import StandardScaler, MinMaxScaler, Normalizer\n",
    "import numpy as np\n"
   ]
  },
  {
   "cell_type": "code",
   "execution_count": 2,
   "id": "4e71e956",
   "metadata": {},
   "outputs": [
    {
     "name": "stdout",
     "output_type": "stream",
     "text": [
      "        Age  Gender  Marital_Status   Fatigue   Slowing      Pain   Hygiene  \\\n",
      "0  0.999918       0               2  0.010265  0.001810  0.005519  0.003450   \n",
      "1  0.999962       1               1  0.000560 -0.000478  0.004918  0.005696   \n",
      "2  0.999901       0               1  0.009730  0.002793  0.007456  0.004506   \n",
      "3  0.999939       0               3  0.000382  0.006113  0.000056  0.003231   \n",
      "4  0.999812       0               3  0.011439  0.005977  0.008670  0.009085   \n",
      "\n",
      "   Movement  Schizophrenia  \n",
      "0  0.003704              0  \n",
      "1  0.004317              3  \n",
      "2  0.004516              0  \n",
      "3  0.008564              3  \n",
      "4  0.007152              1  \n"
     ]
    }
   ],
   "source": [
    "file_path = \"../dataset/schizo_symptons_cleaned_L2.xlsx\"  \n",
    "df = pd.read_excel(file_path)\n",
    "print(df.head())"
   ]
  },
  {
   "cell_type": "code",
   "execution_count": 3,
   "id": "f3772089",
   "metadata": {},
   "outputs": [
    {
     "name": "stdout",
     "output_type": "stream",
     "text": [
      "               Age       Gender  Marital_Status      Fatigue      Slowing  \\\n",
      "count  5000.000000  5000.000000     5000.000000  5000.000000  5000.000000   \n",
      "mean      0.999843     0.498000        1.483000     0.006844     0.006789   \n",
      "std       0.000077     0.500046        1.130472     0.004046     0.004060   \n",
      "min       0.999390     0.000000        0.000000    -0.001250    -0.001567   \n",
      "25%       0.999800     0.000000        0.000000     0.003507     0.003464   \n",
      "50%       0.999857     0.000000        1.000000     0.006804     0.006722   \n",
      "75%       0.999898     1.000000        3.000000     0.010027     0.009871   \n",
      "max       0.999990     1.000000        3.000000     0.018416     0.019074   \n",
      "\n",
      "              Pain      Hygiene     Movement  Schizophrenia  \n",
      "count  5000.000000  5000.000000  5000.000000    5000.000000  \n",
      "mean      0.006783     0.006786     0.006806       0.766200  \n",
      "std       0.004045     0.004136     0.004087       1.150218  \n",
      "min      -0.001351    -0.001625    -0.001181       0.000000  \n",
      "25%       0.003545     0.003321     0.003400       0.000000  \n",
      "50%       0.006658     0.006766     0.006734       0.000000  \n",
      "75%       0.009842     0.010024     0.009975       1.000000  \n",
      "max       0.019003     0.018238     0.017894       4.000000  \n"
     ]
    }
   ],
   "source": [
    "print(df.describe())\n"
   ]
  },
  {
   "cell_type": "code",
   "execution_count": 4,
   "id": "ab5177f3",
   "metadata": {},
   "outputs": [
    {
     "name": "stdout",
     "output_type": "stream",
     "text": [
      "<class 'pandas.core.frame.DataFrame'>\n",
      "RangeIndex: 5000 entries, 0 to 4999\n",
      "Data columns (total 9 columns):\n",
      " #   Column          Non-Null Count  Dtype  \n",
      "---  ------          --------------  -----  \n",
      " 0   Age             5000 non-null   float64\n",
      " 1   Gender          5000 non-null   int64  \n",
      " 2   Marital_Status  5000 non-null   int64  \n",
      " 3   Fatigue         5000 non-null   float64\n",
      " 4   Slowing         5000 non-null   float64\n",
      " 5   Pain            5000 non-null   float64\n",
      " 6   Hygiene         5000 non-null   float64\n",
      " 7   Movement        5000 non-null   float64\n",
      " 8   Schizophrenia   5000 non-null   int64  \n",
      "dtypes: float64(6), int64(3)\n",
      "memory usage: 351.7 KB\n",
      "None\n"
     ]
    }
   ],
   "source": [
    "print(df.info())"
   ]
  },
  {
   "cell_type": "code",
   "execution_count": 5,
   "id": "748fa11b",
   "metadata": {},
   "outputs": [],
   "source": [
    "# Pisahkan fitur (X) dan label (Y)\n",
    "df_X = df.drop(columns=['Schizophrenia'])  # semua fitur numerik\n",
    "df_Y = df['Schizophrenia']  # target klasifikasi"
   ]
  },
  {
   "cell_type": "code",
   "execution_count": 6,
   "id": "14441707",
   "metadata": {},
   "outputs": [],
   "source": [
    "# Konversi kembali menjadi DataFrame dengan kolom yang sesuai\n",
    "column_label = df.drop(columns=['Schizophrenia']).columns  \n",
    "df_X = pd.DataFrame(df_X, columns=column_label)"
   ]
  },
  {
   "cell_type": "code",
   "execution_count": 7,
   "id": "3e59c1d9",
   "metadata": {},
   "outputs": [
    {
     "name": "stdout",
     "output_type": "stream",
     "text": [
      "        Age  Gender  Marital_Status   Fatigue   Slowing      Pain   Hygiene  \\\n",
      "0  0.999918       0               2  0.010265  0.001810  0.005519  0.003450   \n",
      "1  0.999962       1               1  0.000560 -0.000478  0.004918  0.005696   \n",
      "2  0.999901       0               1  0.009730  0.002793  0.007456  0.004506   \n",
      "3  0.999939       0               3  0.000382  0.006113  0.000056  0.003231   \n",
      "4  0.999812       0               3  0.011439  0.005977  0.008670  0.009085   \n",
      "\n",
      "   Movement  \n",
      "0  0.003704  \n",
      "1  0.004317  \n",
      "2  0.004516  \n",
      "3  0.008564  \n",
      "4  0.007152  \n"
     ]
    }
   ],
   "source": [
    "print(df_X.head())"
   ]
  },
  {
   "cell_type": "markdown",
   "id": "b9616ea0",
   "metadata": {},
   "source": [
    "**contoh menentukan k**\n",
    "* K ≈ √N\n",
    "* K ≈ √5000 ≈ 70.7 → K = 70 (dibulatkan ke bawah atau atas)"
   ]
  },
  {
   "cell_type": "code",
   "execution_count": 8,
   "id": "cc66d32d",
   "metadata": {},
   "outputs": [],
   "source": [
    "k = 6\n",
    "model_knn = KNeighborsClassifier(n_neighbors=k)\n",
    "model_knn.fit(df_X, df_Y)\n",
    "knn_test = model_knn.predict(df_X)"
   ]
  },
  {
   "cell_type": "code",
   "execution_count": 9,
   "id": "9c38d36f",
   "metadata": {},
   "outputs": [
    {
     "name": "stdout",
     "output_type": "stream",
     "text": [
      "\n",
      "Classification Report for full dataset:\n",
      "              precision    recall  f1-score   support\n",
      "\n",
      "           0       0.80      0.96      0.87      3077\n",
      "           1       0.86      0.59      0.70       953\n",
      "           2       0.81      0.29      0.43        45\n",
      "           3       0.89      0.63      0.74       912\n",
      "           4       0.00      0.00      0.00        13\n",
      "\n",
      "    accuracy                           0.82      5000\n",
      "   macro avg       0.67      0.49      0.55      5000\n",
      "weighted avg       0.83      0.82      0.81      5000\n",
      "\n"
     ]
    },
    {
     "name": "stderr",
     "output_type": "stream",
     "text": [
      "C:\\Users\\LENOVO\\AppData\\Local\\Packages\\PythonSoftwareFoundation.Python.3.11_qbz5n2kfra8p0\\LocalCache\\local-packages\\Python311\\site-packages\\sklearn\\metrics\\_classification.py:1509: UndefinedMetricWarning: Precision is ill-defined and being set to 0.0 in labels with no predicted samples. Use `zero_division` parameter to control this behavior.\n",
      "  _warn_prf(average, modifier, f\"{metric.capitalize()} is\", len(result))\n",
      "C:\\Users\\LENOVO\\AppData\\Local\\Packages\\PythonSoftwareFoundation.Python.3.11_qbz5n2kfra8p0\\LocalCache\\local-packages\\Python311\\site-packages\\sklearn\\metrics\\_classification.py:1509: UndefinedMetricWarning: Precision is ill-defined and being set to 0.0 in labels with no predicted samples. Use `zero_division` parameter to control this behavior.\n",
      "  _warn_prf(average, modifier, f\"{metric.capitalize()} is\", len(result))\n",
      "C:\\Users\\LENOVO\\AppData\\Local\\Packages\\PythonSoftwareFoundation.Python.3.11_qbz5n2kfra8p0\\LocalCache\\local-packages\\Python311\\site-packages\\sklearn\\metrics\\_classification.py:1509: UndefinedMetricWarning: Precision is ill-defined and being set to 0.0 in labels with no predicted samples. Use `zero_division` parameter to control this behavior.\n",
      "  _warn_prf(average, modifier, f\"{metric.capitalize()} is\", len(result))\n"
     ]
    }
   ],
   "source": [
    "print(\"\\nClassification Report for full dataset:\")\n",
    "print(classification_report(df_Y, knn_test))"
   ]
  },
  {
   "cell_type": "code",
   "execution_count": 10,
   "id": "2d987399",
   "metadata": {},
   "outputs": [
    {
     "name": "stdout",
     "output_type": "stream",
     "text": [
      "Akurasi per fold:\n",
      "0.7680, 0.7480, 0.7520, 0.7540, 0.7500, 0.8020, 0.7560, 0.7500, 0.7620, 0.7540\n",
      "\n",
      "Kinerja rata-rata: 0.7596\n",
      "Standar deviasi: 0.0153\n"
     ]
    }
   ],
   "source": [
    "# K-fold Cross Validation\n",
    "seed = 7\n",
    "scoring = 'accuracy'\n",
    "kfold = model_selection.KFold(n_splits=10, random_state=seed, shuffle=True)\n",
    "knn_acc = model_selection.cross_val_score(model_knn, df_X, df_Y, cv=kfold, scoring=scoring)\n",
    "\n",
    "print(\"Akurasi per fold:\")\n",
    "print(\", \".join([f\"{acc:.4f}\" for acc in knn_acc]))\n",
    "print(\"\\nKinerja rata-rata: {:.4f}\".format(knn_acc.mean()))\n",
    "print(\"Standar deviasi: {:.4f}\".format(knn_acc.std()))"
   ]
  },
  {
   "cell_type": "code",
   "execution_count": 11,
   "id": "7682d1a4",
   "metadata": {},
   "outputs": [
    {
     "data": {
      "image/png": "[encoded data removed]",
      "text/plain": [
       "<Figure size 600x400 with 2 Axes>"
      ]
     },
     "metadata": {},
     "output_type": "display_data"
    }
   ],
   "source": [
    "from sklearn.metrics import confusion_matrix\n",
    "\n",
    "# Buat confusion matrix\n",
    "cm = confusion_matrix(df_Y, knn_test)\n",
    "\n",
    "# Heatmap confusion matrix\n",
    "plt.figure(figsize=(6, 4))\n",
    "sns.heatmap(cm, annot=True, fmt='d', cmap='Blues')\n",
    "plt.title(\"Confusion Matrix Heatmap\")\n",
    "plt.xlabel(\"Predicted\")\n",
    "plt.ylabel(\"Actual\")\n",
    "plt.show()"
   ]
  }
 ],
 "metadata": {
  "kernelspec": {
   "display_name": "Python 3",
   "language": "python",
   "name": "python3"
  },
  "language_info": {
   "codemirror_mode": {
    "name": "ipython",
    "version": 3
   },
   "file_extension": ".py",
   "mimetype": "text/x-python",
   "name": "python",
   "nbconvert_exporter": "python",
   "pygments_lexer": "ipython3",
   "version": "3.11.9"
  }
 },
 "nbformat": 4,
 "nbformat_minor": 5
}
