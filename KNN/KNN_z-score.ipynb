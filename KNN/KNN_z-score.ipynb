{
 "cells": [
  {
   "cell_type": "code",
   "execution_count": 1,
   "id": "bf5fc4f8",
   "metadata": {},
   "outputs": [],
   "source": [
    "import pandas as pd\n",
    "import matplotlib.pyplot as plt\n",
    "from sklearn import model_selection\n",
    "from sklearn.neighbors import KNeighborsClassifier\n",
    "from sklearn.preprocessing import LabelEncoder\n",
    "import seaborn as sns\n",
    "from sklearn.metrics import classification_report\n",
    "# from sklearn.preprocessing import StandardScaler, MinMaxScaler, Normalizer\n",
    "import numpy as np"
   ]
  },
  {
   "cell_type": "code",
   "execution_count": 2,
   "id": "4e71e956",
   "metadata": {},
   "outputs": [
    {
     "name": "stdout",
     "output_type": "stream",
     "text": [
      "        Age  Gender  Marital_Status   Fatigue   Slowing          Pain  \\\n",
      "0 -0.713529       0               2  0.672629 -1.304923 -4.321817e-01   \n",
      "1  1.374827       1               1 -1.574194 -1.877365 -2.322596e-01   \n",
      "2 -0.817946       0               1  0.513058 -1.082899 -1.929941e-16   \n",
      "3  2.105752       0               3 -1.618939  0.281756 -1.718367e+00   \n",
      "4  0.643903       0               3  1.464425 -0.053109  7.050443e-01   \n",
      "\n",
      "    Hygiene  Movement  Schizophrenia  \n",
      "0 -0.898941 -0.855956              0  \n",
      "1  0.005156 -0.414047              3  \n",
      "2 -0.670703 -0.680962              0  \n",
      "3 -0.653659  1.082235              3  \n",
      "4  0.801472  0.274285              1  \n"
     ]
    }
   ],
   "source": [
    "file_path = \"../dataset/schizo_symptons_cleaned_Z-Score.xlsx\"  \n",
    "df = pd.read_excel(file_path)\n",
    "print(df.head())"
   ]
  },
  {
   "cell_type": "code",
   "execution_count": 3,
   "id": "f3772089",
   "metadata": {},
   "outputs": [
    {
     "name": "stdout",
     "output_type": "stream",
     "text": [
      "                Age       Gender  Marital_Status       Fatigue       Slowing  \\\n",
      "count  5.000000e+03  5000.000000     5000.000000  5.000000e+03  5.000000e+03   \n",
      "mean   2.373213e-16     0.498000        1.483000 -1.136868e-17  1.506351e-16   \n",
      "std    1.000100e+00     0.500046        1.130472  1.000100e+00  1.000100e+00   \n",
      "min   -2.070960e+00     0.000000        0.000000 -2.074097e+00 -2.060259e+00   \n",
      "25%   -8.179463e-01     0.000000        0.000000 -8.440921e-01 -8.350644e-01   \n",
      "50%    1.739600e-02     0.000000        1.000000  0.000000e+00  3.848374e-16   \n",
      "75%    8.527383e-01     1.000000        3.000000  8.391063e-01  8.126173e-01   \n",
      "max    2.105752e+00     1.000000        3.000000  2.033754e+00  2.054212e+00   \n",
      "\n",
      "               Pain       Hygiene      Movement  Schizophrenia  \n",
      "count  5.000000e+03  5.000000e+03  5.000000e+03    5000.000000  \n",
      "mean  -3.126388e-17 -3.154810e-16  2.124523e-16       0.766200  \n",
      "std    1.000100e+00  1.000100e+00  1.000100e+00       1.150218  \n",
      "min   -2.069950e+00 -2.014396e+00 -2.032992e+00       0.000000  \n",
      "25%   -8.212533e-01 -8.502473e-01 -8.481120e-01       0.000000  \n",
      "50%   -1.929941e-16  5.105734e-03  1.169032e-02       0.000000  \n",
      "75%    8.302988e-01  8.522571e-01  8.325583e-01       1.000000  \n",
      "max    2.052679e+00  1.991350e+00  2.032085e+00       4.000000  \n"
     ]
    }
   ],
   "source": [
    "print(df.describe())"
   ]
  },
  {
   "cell_type": "code",
   "execution_count": 4,
   "id": "ab5177f3",
   "metadata": {},
   "outputs": [
    {
     "name": "stdout",
     "output_type": "stream",
     "text": [
      "<class 'pandas.core.frame.DataFrame'>\n",
      "RangeIndex: 5000 entries, 0 to 4999\n",
      "Data columns (total 9 columns):\n",
      " #   Column          Non-Null Count  Dtype  \n",
      "---  ------          --------------  -----  \n",
      " 0   Age             5000 non-null   float64\n",
      " 1   Gender          5000 non-null   int64  \n",
      " 2   Marital_Status  5000 non-null   int64  \n",
      " 3   Fatigue         5000 non-null   float64\n",
      " 4   Slowing         5000 non-null   float64\n",
      " 5   Pain            5000 non-null   float64\n",
      " 6   Hygiene         5000 non-null   float64\n",
      " 7   Movement        5000 non-null   float64\n",
      " 8   Schizophrenia   5000 non-null   int64  \n",
      "dtypes: float64(6), int64(3)\n",
      "memory usage: 351.7 KB\n",
      "None\n"
     ]
    }
   ],
   "source": [
    "print(df.info())"
   ]
  },
  {
   "cell_type": "code",
   "execution_count": 5,
   "id": "748fa11b",
   "metadata": {},
   "outputs": [],
   "source": [
    "# Pisahkan fitur (X) dan label (Y)\n",
    "df_X = df.drop(columns=['Schizophrenia'])  # semua fitur numerik\n",
    "df_Y = df['Schizophrenia']  # target klasifikasi"
   ]
  },
  {
   "cell_type": "code",
   "execution_count": 6,
   "id": "14441707",
   "metadata": {},
   "outputs": [],
   "source": [
    "# Konversi kembali menjadi DataFrame dengan kolom yang sesuai\n",
    "column_label = df.drop(columns=['Schizophrenia']).columns  \n",
    "df_X = pd.DataFrame(df_X, columns=column_label)"
   ]
  },
  {
   "cell_type": "code",
   "execution_count": 7,
   "id": "3e59c1d9",
   "metadata": {},
   "outputs": [
    {
     "name": "stdout",
     "output_type": "stream",
     "text": [
      "        Age  Gender  Marital_Status   Fatigue   Slowing          Pain  \\\n",
      "0 -0.713529       0               2  0.672629 -1.304923 -4.321817e-01   \n",
      "1  1.374827       1               1 -1.574194 -1.877365 -2.322596e-01   \n",
      "2 -0.817946       0               1  0.513058 -1.082899 -1.929941e-16   \n",
      "3  2.105752       0               3 -1.618939  0.281756 -1.718367e+00   \n",
      "4  0.643903       0               3  1.464425 -0.053109  7.050443e-01   \n",
      "\n",
      "    Hygiene  Movement  \n",
      "0 -0.898941 -0.855956  \n",
      "1  0.005156 -0.414047  \n",
      "2 -0.670703 -0.680962  \n",
      "3 -0.653659  1.082235  \n",
      "4  0.801472  0.274285  \n"
     ]
    }
   ],
   "source": [
    "print(df_X.head())"
   ]
  },
  {
   "cell_type": "code",
   "execution_count": 8,
   "id": "cc66d32d",
   "metadata": {},
   "outputs": [],
   "source": [
    "k = 6\n",
    "model_knn = KNeighborsClassifier(n_neighbors=k)\n",
    "model_knn.fit(df_X, df_Y)\n",
    "knn_test = model_knn.predict(df_X)"
   ]
  },
  {
   "cell_type": "code",
   "execution_count": 9,
   "id": "9c38d36f",
   "metadata": {},
   "outputs": [
    {
     "name": "stdout",
     "output_type": "stream",
     "text": [
      "\n",
      "Classification Report for full dataset:\n",
      "              precision    recall  f1-score   support\n",
      "\n",
      "           0       0.86      0.99      0.92      3077\n",
      "           1       0.96      0.72      0.82       953\n",
      "           2       0.90      0.42      0.58        45\n",
      "           3       0.94      0.73      0.82       912\n",
      "           4       0.00      0.00      0.00        13\n",
      "\n",
      "    accuracy                           0.88      5000\n",
      "   macro avg       0.73      0.57      0.63      5000\n",
      "weighted avg       0.89      0.88      0.88      5000\n",
      "\n"
     ]
    },
    {
     "name": "stderr",
     "output_type": "stream",
     "text": [
      "C:\\Users\\LENOVO\\AppData\\Local\\Packages\\PythonSoftwareFoundation.Python.3.11_qbz5n2kfra8p0\\LocalCache\\local-packages\\Python311\\site-packages\\sklearn\\metrics\\_classification.py:1509: UndefinedMetricWarning: Precision is ill-defined and being set to 0.0 in labels with no predicted samples. Use `zero_division` parameter to control this behavior.\n",
      "  _warn_prf(average, modifier, f\"{metric.capitalize()} is\", len(result))\n",
      "C:\\Users\\LENOVO\\AppData\\Local\\Packages\\PythonSoftwareFoundation.Python.3.11_qbz5n2kfra8p0\\LocalCache\\local-packages\\Python311\\site-packages\\sklearn\\metrics\\_classification.py:1509: UndefinedMetricWarning: Precision is ill-defined and being set to 0.0 in labels with no predicted samples. Use `zero_division` parameter to control this behavior.\n",
      "  _warn_prf(average, modifier, f\"{metric.capitalize()} is\", len(result))\n",
      "C:\\Users\\LENOVO\\AppData\\Local\\Packages\\PythonSoftwareFoundation.Python.3.11_qbz5n2kfra8p0\\LocalCache\\local-packages\\Python311\\site-packages\\sklearn\\metrics\\_classification.py:1509: UndefinedMetricWarning: Precision is ill-defined and being set to 0.0 in labels with no predicted samples. Use `zero_division` parameter to control this behavior.\n",
      "  _warn_prf(average, modifier, f\"{metric.capitalize()} is\", len(result))\n"
     ]
    }
   ],
   "source": [
    "print(\"\\nClassification Report for full dataset:\")\n",
    "print(classification_report(df_Y, knn_test))"
   ]
  },
  {
   "cell_type": "code",
   "execution_count": 10,
   "id": "2d987399",
   "metadata": {},
   "outputs": [
    {
     "name": "stdout",
     "output_type": "stream",
     "text": [
      "Akurasi per fold:\n",
      "0.8320, 0.8520, 0.8360, 0.8460, 0.8220, 0.8640, 0.8380, 0.8300, 0.8420, 0.8400\n",
      "\n",
      "Kinerja rata-rata: 0.8402\n",
      "Standar deviasi: 0.0113\n"
     ]
    }
   ],
   "source": [
    "# K-fold Cross Validation\n",
    "seed = 7\n",
    "scoring = 'accuracy'\n",
    "kfold = model_selection.KFold(n_splits=10, random_state=seed, shuffle=True)\n",
    "knn_acc = model_selection.cross_val_score(model_knn, df_X, df_Y, cv=kfold, scoring=scoring)\n",
    "\n",
    "print(\"Akurasi per fold:\")\n",
    "print(\", \".join([f\"{acc:.4f}\" for acc in knn_acc]))\n",
    "print(\"\\nKinerja rata-rata: {:.4f}\".format(knn_acc.mean()))\n",
    "print(\"Standar deviasi: {:.4f}\".format(knn_acc.std()))"
   ]
  },
  {
   "cell_type": "code",
   "execution_count": null,
   "id": "ded64ada",
   "metadata": {},
   "outputs": [
    {
     "data": {
      "image/png": "[encoded data removed]",
      "text/plain": [
       "<Figure size 600x400 with 2 Axes>"
      ]
     },
     "metadata": {},
     "output_type": "display_data"
    }
   ],
   "source": [
    "from sklearn.metrics import confusion_matrix\n",
    "\n",
    "# Buat confusion matrix\n",
    "cm = confusion_matrix(df_Y, knn_test)\n",
    "\n",
    "# Heatmap confusion matrix\n",
    "plt.figure(figsize=(6, 4))\n",
    "sns.heatmap(cm, annot=True, fmt='d', cmap='Blues')\n",
    "plt.title(\"Confusion Matrix Heatmap\")\n",
    "plt.xlabel(\"Predicted\")\n",
    "plt.ylabel(\"Actual\")\n",
    "plt.show()"
   ]
  }
 ],
 "metadata": {
  "kernelspec": {
   "display_name": "Python 3",
   "language": "python",
   "name": "python3"
  },
  "language_info": {
   "codemirror_mode": {
    "name": "ipython",
    "version": 3
   },
   "file_extension": ".py",
   "mimetype": "text/x-python",
   "name": "python",
   "nbconvert_exporter": "python",
   "pygments_lexer": "ipython3",
   "version": "3.12.10"
  }
 },
 "nbformat": 4,
 "nbformat_minor": 5
}
