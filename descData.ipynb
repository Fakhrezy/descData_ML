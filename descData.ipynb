{
 "cells": [
  {
   "cell_type": "code",
   "execution_count": 34,
   "metadata": {},
   "outputs": [],
   "source": [
    "import pandas as pd\n",
    "import numpy as np\n",
    "import seaborn as sns\n",
    "import matplotlib.pyplot as plt\n",
    "from sklearn.preprocessing import StandardScaler, MinMaxScaler"
   ]
  },
  {
   "cell_type": "code",
   "execution_count": 35,
   "metadata": {},
   "outputs": [],
   "source": [
    "file_path = \"dataset/schizophrenia_dataset.csv\"  \n",
    "df = pd.read_csv(file_path)"
   ]
  },
  {
   "cell_type": "markdown",
   "metadata": {},
   "source": [
    "**1. Apa saja Fitur dataset dan tipe data masing-masing**"
   ]
  },
  {
   "cell_type": "code",
   "execution_count": 36,
   "metadata": {},
   "outputs": [
    {
     "name": "stdout",
     "output_type": "stream",
     "text": [
      "Informasi Dataset:\n",
      "<class 'pandas.core.frame.DataFrame'>\n",
      "RangeIndex: 10000 entries, 0 to 9999\n",
      "Data columns (total 20 columns):\n",
      " #   Column                  Non-Null Count  Dtype\n",
      "---  ------                  --------------  -----\n",
      " 0   Patient_ID              10000 non-null  int64\n",
      " 1   Age                     10000 non-null  int64\n",
      " 2   Gender                  10000 non-null  int64\n",
      " 3   Education_Level         10000 non-null  int64\n",
      " 4   Marital_Status          10000 non-null  int64\n",
      " 5   Occupation              10000 non-null  int64\n",
      " 6   Income_Level            10000 non-null  int64\n",
      " 7   Living_Area             10000 non-null  int64\n",
      " 8   Diagnosis               10000 non-null  int64\n",
      " 9   Disease_Duration        10000 non-null  int64\n",
      " 10  Hospitalizations        10000 non-null  int64\n",
      " 11  Family_History          10000 non-null  int64\n",
      " 12  Substance_Use           10000 non-null  int64\n",
      " 13  Suicide_Attempt         10000 non-null  int64\n",
      " 14  Positive_Symptom_Score  10000 non-null  int64\n",
      " 15  Negative_Symptom_Score  10000 non-null  int64\n",
      " 16  GAF_Score               10000 non-null  int64\n",
      " 17  Social_Support          10000 non-null  int64\n",
      " 18  Stress_Factors          10000 non-null  int64\n",
      " 19  Medication_Adherence    10000 non-null  int64\n",
      "dtypes: int64(20)\n",
      "memory usage: 1.5 MB\n",
      "None\n"
     ]
    }
   ],
   "source": [
    "print(\"Informasi Dataset:\")\n",
    "print(df.info())"
   ]
  },
  {
   "cell_type": "code",
   "execution_count": 37,
   "metadata": {},
   "outputs": [
    {
     "name": "stdout",
     "output_type": "stream",
     "text": [
      "\n",
      "Preview Dataset:\n",
      "   Patient_ID  Age  Gender  Education_Level  Marital_Status  Occupation  \\\n",
      "0           1   72       1                4               2           0   \n",
      "1           2   49       1                5               2           2   \n",
      "2           3   53       1                5               3           2   \n",
      "3           4   67       1                3               2           0   \n",
      "4           5   54       0                1               2           0   \n",
      "\n",
      "   Income_Level  Living_Area  Diagnosis  Disease_Duration  Hospitalizations  \\\n",
      "0             2            1          0                 0                 0   \n",
      "1             1            0          1                35                 1   \n",
      "2             1            0          1                32                 0   \n",
      "3             2            0          0                 0                 0   \n",
      "4             2            1          0                 0                 0   \n",
      "\n",
      "   Family_History  Substance_Use  Suicide_Attempt  Positive_Symptom_Score  \\\n",
      "0               0              0                0                      32   \n",
      "1               1              1                1                      51   \n",
      "2               1              0                0                      72   \n",
      "3               0              1                0                      10   \n",
      "4               0              0                0                       4   \n",
      "\n",
      "   Negative_Symptom_Score  GAF_Score  Social_Support  Stress_Factors  \\\n",
      "0                      48         72               0               2   \n",
      "1                      63         40               2               2   \n",
      "2                      85         51               0               1   \n",
      "3                      21         74               1               1   \n",
      "4                      27         98               0               1   \n",
      "\n",
      "   Medication_Adherence  \n",
      "0                     2  \n",
      "1                     0  \n",
      "2                     1  \n",
      "3                     2  \n",
      "4                     0  \n"
     ]
    }
   ],
   "source": [
    "print(\"\\nPreview Dataset:\")\n",
    "print(df.head())"
   ]
  },
  {
   "cell_type": "markdown",
   "metadata": {},
   "source": [
    "**2. Menentukan Fitur target (jika ada) dan fitur variabel bebas**"
   ]
  },
  {
   "cell_type": "code",
   "execution_count": 38,
   "metadata": {},
   "outputs": [
    {
     "name": "stdout",
     "output_type": "stream",
     "text": [
      "\n",
      "Fitur Target: Diagnosis\n",
      "Fitur Variabel Bebas: ['Patient_ID', 'Age', 'Gender', 'Education_Level', 'Marital_Status', 'Occupation', 'Income_Level', 'Living_Area', 'Disease_Duration', 'Hospitalizations', 'Family_History', 'Substance_Use', 'Suicide_Attempt', 'Positive_Symptom_Score', 'Negative_Symptom_Score', 'GAF_Score', 'Social_Support', 'Stress_Factors', 'Medication_Adherence']\n"
     ]
    }
   ],
   "source": [
    "#cek kolom yg mengandung kata diagnosis atau label\n",
    "possible_targets = [col for col in df.columns if 'diagnosis' in col.lower() or 'label' in col.lower()] \n",
    "# jika kolom mengandung kata diagnosis atau label, maka dijadikan target atau -> masuk dalam list possible_targets\n",
    "feature_target = possible_targets[0] if possible_targets else None #jika ada maka diambil indeks 0, jika tidak ada maka None\n",
    "# jika kolom tidak mengandung diagnosis atau label maka masuk ke dalam list feature_variables\n",
    "feature_variables = [col for col in df.columns if col != feature_target]\n",
    "\n",
    "print(\"\\nFitur Target:\", feature_target)\n",
    "print(\"Fitur Variabel Bebas:\", feature_variables)"
   ]
  },
  {
   "cell_type": "markdown",
   "metadata": {},
   "source": [
    "**3. Rentang nilai setiap fitur**"
   ]
  },
  {
   "cell_type": "code",
   "execution_count": 39,
   "metadata": {},
   "outputs": [
    {
     "name": "stdout",
     "output_type": "stream",
     "text": [
      "\n",
      "Rentang Nilai Fitur:\n",
      "        Patient_ID           Age        Gender  Education_Level  \\\n",
      "count  10000.00000  10000.000000  10000.000000     10000.000000   \n",
      "mean    5000.50000     48.867700      0.502600         3.042600   \n",
      "std     2886.89568     18.215054      0.500018         1.423021   \n",
      "min        1.00000     18.000000      0.000000         1.000000   \n",
      "25%     2500.75000     33.000000      0.000000         2.000000   \n",
      "50%     5000.50000     49.000000      1.000000         3.000000   \n",
      "75%     7500.25000     65.000000      1.000000         4.000000   \n",
      "max    10000.00000     80.000000      1.000000         5.000000   \n",
      "\n",
      "       Marital_Status    Occupation  Income_Level   Living_Area     Diagnosis  \\\n",
      "count    10000.000000  10000.000000  10000.000000  10000.000000  10000.000000   \n",
      "mean         1.518200      1.510600      0.996900      0.499400      0.288700   \n",
      "std          1.117315      1.114097      0.817531      0.500025      0.453181   \n",
      "min          0.000000      0.000000      0.000000      0.000000      0.000000   \n",
      "25%          1.000000      1.000000      0.000000      0.000000      0.000000   \n",
      "50%          2.000000      2.000000      1.000000      0.000000      0.000000   \n",
      "75%          3.000000      3.000000      2.000000      1.000000      1.000000   \n",
      "max          3.000000      3.000000      2.000000      1.000000      1.000000   \n",
      "\n",
      "       Disease_Duration  Hospitalizations  Family_History  Substance_Use  \\\n",
      "count      10000.000000      10000.000000    10000.000000   10000.000000   \n",
      "mean           5.859000          1.440300        0.319600       0.217700   \n",
      "std           11.066814          2.824152        0.466345       0.412703   \n",
      "min            0.000000          0.000000        0.000000       0.000000   \n",
      "25%            0.000000          0.000000        0.000000       0.000000   \n",
      "50%            0.000000          0.000000        0.000000       0.000000   \n",
      "75%            5.250000          1.000000        1.000000       0.000000   \n",
      "max           40.000000         10.000000        1.000000       1.000000   \n",
      "\n",
      "       Suicide_Attempt  Positive_Symptom_Score  Negative_Symptom_Score  \\\n",
      "count      10000.00000            10000.000000              10000.0000   \n",
      "mean           0.08840               39.019000                 39.4614   \n",
      "std            0.28389               27.276962                 27.0175   \n",
      "min            0.00000                0.000000                  0.0000   \n",
      "25%            0.00000               17.000000                 18.0000   \n",
      "50%            0.00000               35.000000                 35.0000   \n",
      "75%            0.00000               57.000000                 57.0000   \n",
      "max            1.00000              100.000000                100.0000   \n",
      "\n",
      "          GAF_Score  Social_Support  Stress_Factors  Medication_Adherence  \n",
      "count  10000.000000    10000.000000    10000.000000          10000.000000  \n",
      "mean      67.031800        0.992500        0.998700              1.137500  \n",
      "std       23.999833        0.813578        0.817169              0.821378  \n",
      "min       10.000000        0.000000        0.000000              0.000000  \n",
      "25%       54.000000        0.000000        0.000000              0.000000  \n",
      "50%       72.000000        1.000000        1.000000              1.000000  \n",
      "75%       86.000000        2.000000        2.000000              2.000000  \n",
      "max      100.000000        2.000000        2.000000              2.000000  \n"
     ]
    }
   ],
   "source": [
    "print(\"\\nRentang Nilai Fitur:\")\n",
    "print(df.describe())"
   ]
  },
  {
   "cell_type": "markdown",
   "metadata": {},
   "source": [
    "**4. Ada tidaknya data null**"
   ]
  },
  {
   "cell_type": "code",
   "execution_count": 40,
   "metadata": {},
   "outputs": [
    {
     "name": "stdout",
     "output_type": "stream",
     "text": [
      "\n",
      "Jumlah Data Null per Fitur:\n",
      "Patient_ID                0\n",
      "Age                       0\n",
      "Gender                    0\n",
      "Education_Level           0\n",
      "Marital_Status            0\n",
      "Occupation                0\n",
      "Income_Level              0\n",
      "Living_Area               0\n",
      "Diagnosis                 0\n",
      "Disease_Duration          0\n",
      "Hospitalizations          0\n",
      "Family_History            0\n",
      "Substance_Use             0\n",
      "Suicide_Attempt           0\n",
      "Positive_Symptom_Score    0\n",
      "Negative_Symptom_Score    0\n",
      "GAF_Score                 0\n",
      "Social_Support            0\n",
      "Stress_Factors            0\n",
      "Medication_Adherence      0\n",
      "dtype: int64\n"
     ]
    }
   ],
   "source": [
    "# cek data null\n",
    "print(\"\\nJumlah Data Null per Fitur:\")\n",
    "print(df.isnull().sum()) #menghitung jumlah data null per fitur"
   ]
  },
  {
   "cell_type": "markdown",
   "metadata": {},
   "source": [
    "**5. Ada tidaknya data yang tidak konsisten (duplikat)**"
   ]
  },
  {
   "cell_type": "code",
   "execution_count": 41,
   "metadata": {},
   "outputs": [
    {
     "name": "stdout",
     "output_type": "stream",
     "text": [
      "\n",
      "Jumlah Data Duplikat: 0\n"
     ]
    }
   ],
   "source": [
    "# cek data duplikat\n",
    "print(\"\\nJumlah Data Duplikat:\", df.duplicated().sum())"
   ]
  },
  {
   "cell_type": "markdown",
   "metadata": {},
   "source": [
    "**6. Perlu tidaknya transformasi data**"
   ]
  },
  {
   "cell_type": "code",
   "execution_count": 42,
   "metadata": {},
   "outputs": [
    {
     "name": "stdout",
     "output_type": "stream",
     "text": [
      "\n",
      "Fitur Kategorikal: []\n",
      "Fitur Numerik: ['Patient_ID', 'Age', 'Gender', 'Education_Level', 'Marital_Status', 'Occupation', 'Income_Level', 'Living_Area', 'Diagnosis', 'Disease_Duration', 'Hospitalizations', 'Family_History', 'Substance_Use', 'Suicide_Attempt', 'Positive_Symptom_Score', 'Negative_Symptom_Score', 'GAF_Score', 'Social_Support', 'Stress_Factors', 'Medication_Adherence']\n"
     ]
    }
   ],
   "source": [
    "# cek jika data bertipe objek, maka dimasukan ke dalam list categorical_features\n",
    "categorical_features = [col for col in df.columns if df[col].dtype == 'object']\n",
    "# cek jika data bertipe int64 atau float64, maka dimasukan ke dalam list numerical_features\n",
    "numerical_features = [col for col in df.columns if df[col].dtype in ['int64', 'float64']]\n",
    "\n",
    "print(\"\\nFitur Kategorikal:\", categorical_features)\n",
    "print(\"Fitur Numerik:\", numerical_features)"
   ]
  },
  {
   "cell_type": "markdown",
   "metadata": {},
   "source": [
    "**7. Perlu tidaknya normalisasi data**"
   ]
  },
  {
   "cell_type": "code",
   "execution_count": 48,
   "metadata": {},
   "outputs": [
    {
     "name": "stdout",
     "output_type": "stream",
     "text": [
      "\n",
      "Data setelah Normalisasi (contoh 5 baris pertama):\n",
      "   Patient_ID       Age    Gender  Education_Level  Marital_Status  \\\n",
      "0   -1.731878  1.270019  0.994813         0.672828        0.431234   \n",
      "1   -1.731531  0.007264  0.994813         1.375593        0.431234   \n",
      "2   -1.731185  0.226873  0.994813         1.375593        1.326281   \n",
      "3   -1.730838  0.995507  0.994813        -0.029938        0.431234   \n",
      "4   -1.730492  0.281776 -1.005214        -1.435469        0.431234   \n",
      "\n",
      "   Occupation  Income_Level  Living_Area  Diagnosis  Disease_Duration  \\\n",
      "0   -1.355964      1.227048     1.001201  -0.637084         -0.529447   \n",
      "1    0.439302      0.003792    -0.998801   1.569651          2.633320   \n",
      "2    0.439302      0.003792    -0.998801   1.569651          2.362225   \n",
      "3   -1.355964      1.227048    -0.998801  -0.637084         -0.529447   \n",
      "4   -1.355964      1.227048     1.001201  -0.637084         -0.529447   \n",
      "\n",
      "   Hospitalizations  Family_History  Substance_Use  Suicide_Attempt  \\\n",
      "0         -0.510019       -0.685364      -0.527524        -0.311404   \n",
      "1         -0.155913        1.459079       1.895647         3.211264   \n",
      "2         -0.510019        1.459079      -0.527524        -0.311404   \n",
      "3         -0.510019       -0.685364       1.895647        -0.311404   \n",
      "4         -0.510019       -0.685364      -0.527524        -0.311404   \n",
      "\n",
      "   Positive_Symptom_Score  Negative_Symptom_Score  GAF_Score  Social_Support  \\\n",
      "0               -0.257336                0.316055   0.207020       -1.219980   \n",
      "1                0.439257                0.871279  -1.126389        1.238418   \n",
      "2                1.209176                1.685607  -0.668030       -1.219980   \n",
      "3               -1.063918               -0.683347   0.290358        0.009219   \n",
      "4               -1.283895               -0.461257   1.290415       -1.219980   \n",
      "\n",
      "   Stress_Factors  Medication_Adherence  \n",
      "0        1.225389              1.050118  \n",
      "1        1.225389             -1.384938  \n",
      "2        0.001591             -0.167410  \n",
      "3        0.001591              1.050118  \n",
      "4        0.001591             -1.384938  \n"
     ]
    }
   ],
   "source": [
    "# variabel menampung normalisasi data\n",
    "scaler = StandardScaler()\n",
    "# menyalin data\n",
    "df_normalized = df.copy()\n",
    "# menentukan skala normalisasi dan ubah data dalam rentang 0-1\n",
    "df_normalized[numerical_features] = scaler.fit_transform(df[numerical_features])\n",
    "\n",
    "print(\"\\nData setelah Normalisasi (contoh 5 baris pertama):\")\n",
    "print(df_normalized.head())"
   ]
  },
  {
   "cell_type": "code",
   "execution_count": 51,
   "metadata": {},
   "outputs": [
    {
     "name": "stdout",
     "output_type": "stream",
     "text": [
      "        Patient_ID           Age        Gender  Education_Level  \\\n",
      "count  10000.00000  10000.000000  10000.000000     10000.000000   \n",
      "mean    5000.50000     48.867700      0.502600         3.042600   \n",
      "std     2886.89568     18.215054      0.500018         1.423021   \n",
      "min        1.00000     18.000000      0.000000         1.000000   \n",
      "25%     2500.75000     33.000000      0.000000         2.000000   \n",
      "50%     5000.50000     49.000000      1.000000         3.000000   \n",
      "75%     7500.25000     65.000000      1.000000         4.000000   \n",
      "max    10000.00000     80.000000      1.000000         5.000000   \n",
      "\n",
      "       Marital_Status    Occupation  Income_Level   Living_Area     Diagnosis  \\\n",
      "count    10000.000000  10000.000000  10000.000000  10000.000000  10000.000000   \n",
      "mean         1.518200      1.510600      0.996900      0.499400      0.288700   \n",
      "std          1.117315      1.114097      0.817531      0.500025      0.453181   \n",
      "min          0.000000      0.000000      0.000000      0.000000      0.000000   \n",
      "25%          1.000000      1.000000      0.000000      0.000000      0.000000   \n",
      "50%          2.000000      2.000000      1.000000      0.000000      0.000000   \n",
      "75%          3.000000      3.000000      2.000000      1.000000      1.000000   \n",
      "max          3.000000      3.000000      2.000000      1.000000      1.000000   \n",
      "\n",
      "       Disease_Duration  Hospitalizations  Family_History  Substance_Use  \\\n",
      "count      10000.000000      10000.000000    10000.000000   10000.000000   \n",
      "mean           5.859000          1.440300        0.319600       0.217700   \n",
      "std           11.066814          2.824152        0.466345       0.412703   \n",
      "min            0.000000          0.000000        0.000000       0.000000   \n",
      "25%            0.000000          0.000000        0.000000       0.000000   \n",
      "50%            0.000000          0.000000        0.000000       0.000000   \n",
      "75%            5.250000          1.000000        1.000000       0.000000   \n",
      "max           40.000000         10.000000        1.000000       1.000000   \n",
      "\n",
      "       Suicide_Attempt  Positive_Symptom_Score  Negative_Symptom_Score  \\\n",
      "count      10000.00000            10000.000000              10000.0000   \n",
      "mean           0.08840               39.019000                 39.4614   \n",
      "std            0.28389               27.276962                 27.0175   \n",
      "min            0.00000                0.000000                  0.0000   \n",
      "25%            0.00000               17.000000                 18.0000   \n",
      "50%            0.00000               35.000000                 35.0000   \n",
      "75%            0.00000               57.000000                 57.0000   \n",
      "max            1.00000              100.000000                100.0000   \n",
      "\n",
      "          GAF_Score  Social_Support  Stress_Factors  Medication_Adherence  \n",
      "count  10000.000000    10000.000000    10000.000000          10000.000000  \n",
      "mean      67.031800        0.992500        0.998700              1.137500  \n",
      "std       23.999833        0.813578        0.817169              0.821378  \n",
      "min       10.000000        0.000000        0.000000              0.000000  \n",
      "25%       54.000000        0.000000        0.000000              0.000000  \n",
      "50%       72.000000        1.000000        1.000000              1.000000  \n",
      "75%       86.000000        2.000000        2.000000              2.000000  \n",
      "max      100.000000        2.000000        2.000000              2.000000  \n"
     ]
    }
   ],
   "source": [
    "print(numerical_features.describe())"
   ]
  },
  {
   "cell_type": "markdown",
   "metadata": {},
   "source": [
    "**8. Apakah ada outlier (pencilan)**"
   ]
  },
  {
   "cell_type": "code",
   "execution_count": 44,
   "metadata": {},
   "outputs": [
    {
     "name": "stdout",
     "output_type": "stream",
     "text": [
      "\n",
      "Jumlah Outlier per Fitur:\n",
      "Patient_ID                   0\n",
      "Age                          0\n",
      "Gender                       0\n",
      "Education_Level              0\n",
      "Marital_Status               0\n",
      "Occupation                   0\n",
      "Income_Level                 0\n",
      "Living_Area                  0\n",
      "Diagnosis                    0\n",
      "Disease_Duration          1963\n",
      "Hospitalizations          2100\n",
      "Family_History               0\n",
      "Substance_Use             2177\n",
      "Suicide_Attempt            884\n",
      "Positive_Symptom_Score       0\n",
      "Negative_Symptom_Score       0\n",
      "GAF_Score                    0\n",
      "Social_Support               0\n",
      "Stress_Factors               0\n",
      "Medication_Adherence         0\n",
      "dtype: int64\n"
     ]
    }
   ],
   "source": [
    "# hitung kuartil 1 dari data numerik\n",
    "Q1 = df[numerical_features].quantile(0.25)\n",
    "# hitung kuartil 3 dari data numerik\n",
    "Q3 = df[numerical_features].quantile(0.75)\n",
    "# hitung Interquartile Range (IQR)\n",
    "IQR = Q3 - Q1\n",
    "# hitung jumlah outlier per fitur \n",
    "outliers = ((df[numerical_features] < (Q1 - 1.5 * IQR)) | #jika nilai lbh rendah dari batas bawah(outlier rendah)\n",
    "            (df[numerical_features] > (Q3 + 1.5 * IQR))) #jika nilai lbh besar dari batas atas(outlier tinggi)\n",
    "\n",
    "print(\"\\nJumlah Outlier per Fitur:\")\n",
    "print(outliers.sum()) # total outlier per fitur"
   ]
  },
  {
   "cell_type": "markdown",
   "metadata": {},
   "source": [
    "**9. Jika menggunakan data tidak terstruktur jelaskan teknik ekstraksi fitur yang digunakan.**"
   ]
  },
  {
   "cell_type": "markdown",
   "metadata": {},
   "source": [
    "tidak ada teknik ekstraksi fitur karna tidak ada data teks yang digunakan"
   ]
  }
 ],
 "metadata": {
  "kernelspec": {
   "display_name": "Python 3",
   "language": "python",
   "name": "python3"
  },
  "language_info": {
   "codemirror_mode": {
    "name": "ipython",
    "version": 3
   },
   "file_extension": ".py",
   "mimetype": "text/x-python",
   "name": "python",
   "nbconvert_exporter": "python",
   "pygments_lexer": "ipython3",
   "version": "3.11.9"
  }
 },
 "nbformat": 4,
 "nbformat_minor": 2
}
