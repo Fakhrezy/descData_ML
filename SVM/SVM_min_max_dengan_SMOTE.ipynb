{
  "nbformat": 4,
  "nbformat_minor": 0,
  "metadata": {
    "colab": {
      "provenance": []
    },
    "kernelspec": {
      "name": "python3",
      "display_name": "Python 3"
    },
    "language_info": {
      "name": "python"
    }
  },
  "cells": [
    {
      "cell_type": "markdown",
      "source": [
        "**Import Modul**"
      ],
      "metadata": {
        "id": "IiODNofniltl"
      }
    },
    {
      "cell_type": "code",
      "source": [
        "import pandas as pd\n",
        "import numpy as np\n",
        "import matplotlib.pyplot as plt\n",
        "from sklearn.model_selection import train_test_split # bagi data\n",
        "from sklearn.preprocessing import MinMaxScaler # normalisasi\n",
        "from sklearn.svm import SVC # model\n",
        "import seaborn as sns # visualisasi\n",
        "from sklearn.metrics import classification_report, confusion_matrix, accuracy_score # kinerja matriks klasifikasi"
      ],
      "metadata": {
        "id": "p4bEEclUiW9M"
      },
      "execution_count": 28,
      "outputs": []
    },
    {
      "cell_type": "markdown",
      "source": [
        "**Ambil Data**"
      ],
      "metadata": {
        "id": "nf9elV8L9eZD"
      }
    },
    {
      "cell_type": "code",
      "source": [
        "df = pd.read_excel('schizo_symptons_cleaned_MinMax.xlsx') # dataset di tampung dalam variabel df"
      ],
      "metadata": {
        "id": "2ADDb2888hEB"
      },
      "execution_count": 29,
      "outputs": []
    },
    {
      "cell_type": "code",
      "source": [
        "print(df.describe()) # menampilkan ringkasan statistik deskriptif dari kolom-kolom numerik dalam DataFrame df."
      ],
      "metadata": {
        "id": "hn8IOl-C6sr8",
        "colab": {
          "base_uri": "https://localhost:8080/"
        },
        "outputId": "bc2dbdf3-c764-4a66-8ad0-4bb7ce174a98"
      },
      "execution_count": 30,
      "outputs": [
        {
          "output_type": "stream",
          "name": "stdout",
          "text": [
            "               Age       Gender  Marital_Status      Fatigue      Slowing  \\\n",
            "count  5000.000000  5000.000000     5000.000000  5000.000000  5000.000000   \n",
            "mean      0.495835     0.498000        1.483000     0.504910     0.500735   \n",
            "std       0.239447     0.500046        1.130472     0.243461     0.243069   \n",
            "min       0.000000     0.000000        0.000000     0.000000     0.000000   \n",
            "25%       0.300000     0.000000        0.000000     0.299428     0.297777   \n",
            "50%       0.500000     0.000000        1.000000     0.504910     0.500735   \n",
            "75%       0.700000     1.000000        3.000000     0.709179     0.698237   \n",
            "max       1.000000     1.000000        3.000000     1.000000     1.000000   \n",
            "\n",
            "              Pain      Hygiene     Movement  Schizophrenia  \n",
            "count  5000.000000  5000.000000  5000.000000    5000.000000  \n",
            "mean      0.502095     0.502877     0.500111       0.766200  \n",
            "std       0.242588     0.249666     0.246022       1.150218  \n",
            "min       0.000000     0.000000     0.000000       0.000000  \n",
            "25%       0.302888     0.290620     0.291478       0.000000  \n",
            "50%       0.502095     0.504151     0.502987       0.000000  \n",
            "75%       0.703495     0.715635     0.704919       1.000000  \n",
            "max       1.000000     1.000000     1.000000       4.000000  \n"
          ]
        }
      ]
    },
    {
      "cell_type": "code",
      "source": [
        "print(\"informasi dataset :\")\n",
        "print(df.info()) # print informasi dataset"
      ],
      "metadata": {
        "colab": {
          "base_uri": "https://localhost:8080/"
        },
        "id": "aW6bm_lA8mh5",
        "outputId": "734aec9a-ba2d-44b0-c50e-205f74113437"
      },
      "execution_count": 31,
      "outputs": [
        {
          "output_type": "stream",
          "name": "stdout",
          "text": [
            "informasi dataset :\n",
            "<class 'pandas.core.frame.DataFrame'>\n",
            "RangeIndex: 5000 entries, 0 to 4999\n",
            "Data columns (total 9 columns):\n",
            " #   Column          Non-Null Count  Dtype  \n",
            "---  ------          --------------  -----  \n",
            " 0   Age             5000 non-null   float64\n",
            " 1   Gender          5000 non-null   int64  \n",
            " 2   Marital_Status  5000 non-null   int64  \n",
            " 3   Fatigue         5000 non-null   float64\n",
            " 4   Slowing         5000 non-null   float64\n",
            " 5   Pain            5000 non-null   float64\n",
            " 6   Hygiene         5000 non-null   float64\n",
            " 7   Movement        5000 non-null   float64\n",
            " 8   Schizophrenia   5000 non-null   int64  \n",
            "dtypes: float64(6), int64(3)\n",
            "memory usage: 351.7 KB\n",
            "None\n"
          ]
        }
      ]
    },
    {
      "cell_type": "markdown",
      "source": [
        "**Preprocessing**"
      ],
      "metadata": {
        "id": "C2Hsyxqb9ld2"
      }
    },
    {
      "cell_type": "code",
      "source": [
        "df.drop('Name', axis=1, inplace=True) # menghapus kolom nama dari dataset"
      ],
      "metadata": {
        "id": "ZiCSTOKt492c"
      },
      "execution_count": null,
      "outputs": []
    },
    {
      "cell_type": "code",
      "source": [
        "print(\"\\njumlah data per baris :\")\n",
        "print(df.count(axis=1)) # menghitung jumlah data yang tidak kosong di setiap kolom.\n",
        "print(\"\\njumlah data per kolom :\")\n",
        "print(df.count(axis=0)) # menghitung jumlah kolom yang tidak kosong untuk setiap baris."
      ],
      "metadata": {
        "colab": {
          "base_uri": "https://localhost:8080/"
        },
        "id": "se8CLAXY8pIT",
        "outputId": "07d291d2-b365-4f31-a274-480d0dbb5910"
      },
      "execution_count": 32,
      "outputs": [
        {
          "output_type": "stream",
          "name": "stdout",
          "text": [
            "\n",
            "jumlah data per baris :\n",
            "0       9\n",
            "1       9\n",
            "2       9\n",
            "3       9\n",
            "4       9\n",
            "       ..\n",
            "4995    9\n",
            "4996    9\n",
            "4997    9\n",
            "4998    9\n",
            "4999    9\n",
            "Length: 5000, dtype: int64\n",
            "\n",
            "jumlah data per kolom :\n",
            "Age               5000\n",
            "Gender            5000\n",
            "Marital_Status    5000\n",
            "Fatigue           5000\n",
            "Slowing           5000\n",
            "Pain              5000\n",
            "Hygiene           5000\n",
            "Movement          5000\n",
            "Schizophrenia     5000\n",
            "dtype: int64\n"
          ]
        }
      ]
    },
    {
      "cell_type": "code",
      "source": [
        "# cek kolom yg mengandung kata diagnosis, label atau schizo\n",
        "possible_targets = [col for col in df.columns\n",
        "                    if 'diagnosis' in col.lower()\n",
        "                    or 'label' in col.lower()\n",
        "                    or 'schizo' in col.lower()]\n",
        "\n",
        "# jika kolom mengandung kata diagnosis atau label, maka dijadikan target atau -> masuk dalam list possible_targets\n",
        "feature_target = possible_targets[0] if possible_targets else None # jika ada maka diambil indeks 0, jika tidak ada maka None\n",
        "\n",
        "# jika kolom tidak mengandung diagnosis atau label maka masuk ke dalam list feature_variables\n",
        "feature_variables = [col for col in df.columns\n",
        "                     if col != feature_target]\n",
        "\n",
        "print(\"\\nFitur Target:\", feature_target)\n",
        "print(\"Fitur Variabel Bebas:\", feature_variables)"
      ],
      "metadata": {
        "colab": {
          "base_uri": "https://localhost:8080/"
        },
        "id": "wrvVl60p8rQy",
        "outputId": "bbd9c498-8877-4348-adf3-8debe1607527"
      },
      "execution_count": 33,
      "outputs": [
        {
          "output_type": "stream",
          "name": "stdout",
          "text": [
            "\n",
            "Fitur Target: Schizophrenia\n",
            "Fitur Variabel Bebas: ['Age', 'Gender', 'Marital_Status', 'Fatigue', 'Slowing', 'Pain', 'Hygiene', 'Movement']\n"
          ]
        }
      ]
    },
    {
      "cell_type": "code",
      "source": [
        "print(\"jumlah data null :\")\n",
        "print(df.isnull().sum()) # menampilkan jumlah nilai yang kosong (NaN/null) di setiap kolom dalam DataFrame df."
      ],
      "metadata": {
        "colab": {
          "base_uri": "https://localhost:8080/"
        },
        "id": "N5CSuXZS8t_N",
        "outputId": "5c9a6773-6e25-4f2c-8603-e58e74e1eaee"
      },
      "execution_count": 34,
      "outputs": [
        {
          "output_type": "stream",
          "name": "stdout",
          "text": [
            "jumlah data null :\n",
            "Age               0\n",
            "Gender            0\n",
            "Marital_Status    0\n",
            "Fatigue           0\n",
            "Slowing           0\n",
            "Pain              0\n",
            "Hygiene           0\n",
            "Movement          0\n",
            "Schizophrenia     0\n",
            "dtype: int64\n"
          ]
        }
      ]
    },
    {
      "cell_type": "code",
      "source": [
        "df.fillna(df.select_dtypes(include=[np.number]).mean(), inplace=True) # mengisi (fill) semua nilai kosong (NaN) di kolom numerik dengan rata-rata (mean) dari kolom masing-masing.\n",
        "print(df.isnull().sum()) # menampilkan jumlah nilai kosong (NaN/missing value) di setiap kolom dalam DataFrame df."
      ],
      "metadata": {
        "colab": {
          "base_uri": "https://localhost:8080/"
        },
        "id": "S5nSAtmn8v53",
        "outputId": "f21cb71a-d4b0-4676-cc98-16c0cc13ef2b"
      },
      "execution_count": 35,
      "outputs": [
        {
          "output_type": "stream",
          "name": "stdout",
          "text": [
            "Age               0\n",
            "Gender            0\n",
            "Marital_Status    0\n",
            "Fatigue           0\n",
            "Slowing           0\n",
            "Pain              0\n",
            "Hygiene           0\n",
            "Movement          0\n",
            "Schizophrenia     0\n",
            "dtype: int64\n"
          ]
        }
      ]
    },
    {
      "cell_type": "code",
      "source": [
        "# cek data duplikat\n",
        "print(\"\\nJumlah Data Duplikat:\", df.duplicated().sum())"
      ],
      "metadata": {
        "colab": {
          "base_uri": "https://localhost:8080/"
        },
        "id": "5Ie-qJc98x27",
        "outputId": "f27c7a8a-9f28-4197-973e-bf63970dfd07"
      },
      "execution_count": 9,
      "outputs": [
        {
          "output_type": "stream",
          "name": "stdout",
          "text": [
            "\n",
            "Jumlah Data Duplikat: 0\n"
          ]
        }
      ]
    },
    {
      "cell_type": "code",
      "source": [
        "from sklearn.preprocessing import LabelEncoder\n",
        "# ubah kolom categorical menjadi numerik\n",
        "\n",
        "le_gender = LabelEncoder() # mengubah nilai kategori (string) menjadi angka.\n",
        "# Mengubah nilai dalam kolom Gender dari string menjadi angka menggunakan encoder yang dibuat\n",
        "df['Gender'] = le_gender.fit_transform(df['Gender'])  # Male=1, Female=0\n",
        "\n",
        "le_marital = LabelEncoder()\n",
        "df['Marital_Status'] = le_marital.fit_transform(df['Marital_Status'])\n",
        "\n",
        "le_target = LabelEncoder()\n",
        "df['Schizophrenia'] = le_target.fit_transform(df['Schizophrenia'])\n",
        "\n",
        "print(df.info())"
      ],
      "metadata": {
        "colab": {
          "base_uri": "https://localhost:8080/"
        },
        "id": "aRYnoBAY8z3P",
        "outputId": "c110fe01-3823-4f0d-a752-3f24bc3a9681"
      },
      "execution_count": 36,
      "outputs": [
        {
          "output_type": "stream",
          "name": "stdout",
          "text": [
            "<class 'pandas.core.frame.DataFrame'>\n",
            "RangeIndex: 5000 entries, 0 to 4999\n",
            "Data columns (total 9 columns):\n",
            " #   Column          Non-Null Count  Dtype  \n",
            "---  ------          --------------  -----  \n",
            " 0   Age             5000 non-null   float64\n",
            " 1   Gender          5000 non-null   int64  \n",
            " 2   Marital_Status  5000 non-null   int64  \n",
            " 3   Fatigue         5000 non-null   float64\n",
            " 4   Slowing         5000 non-null   float64\n",
            " 5   Pain            5000 non-null   float64\n",
            " 6   Hygiene         5000 non-null   float64\n",
            " 7   Movement        5000 non-null   float64\n",
            " 8   Schizophrenia   5000 non-null   int64  \n",
            "dtypes: float64(6), int64(3)\n",
            "memory usage: 351.7 KB\n",
            "None\n"
          ]
        }
      ]
    },
    {
      "cell_type": "code",
      "source": [
        "# Ambil hanya kolom numerik dari DataFrame\n",
        "numeric_df = df.select_dtypes(include=[np.number])\n",
        "\n",
        "# Hitung kuartil dan IQR\n",
        "q1 = np.quantile(numeric_df, 0.25, axis=0) # menghitung kuartil pertama (25%)\n",
        "q2 = np.quantile(numeric_df, 0.50, axis=0)\n",
        "q3 = np.quantile(numeric_df, 0.75, axis=0)\n",
        "iqr = q3 - q1\n",
        "\n",
        "# Hitung batas atas dan bawah\n",
        "upper_bound = q3 + 1.5 * iqr\n",
        "lower_bound = q1 - 1.5 * iqr\n",
        "\n",
        "# Hitung jumlah outlier\n",
        "outliers = (numeric_df < lower_bound) | (numeric_df > upper_bound)\n",
        "print(\"Jumlah nilai outlier per kolom:\")\n",
        "print(outliers.sum()) # tampilkan outlier"
      ],
      "metadata": {
        "colab": {
          "base_uri": "https://localhost:8080/"
        },
        "id": "XWSnYD3v-QW8",
        "outputId": "0006e679-373f-4ebf-de1d-e26186604cd8"
      },
      "execution_count": 37,
      "outputs": [
        {
          "output_type": "stream",
          "name": "stdout",
          "text": [
            "Jumlah nilai outlier per kolom:\n",
            "Age                 0\n",
            "Gender              0\n",
            "Marital_Status      0\n",
            "Fatigue             0\n",
            "Slowing             0\n",
            "Pain                0\n",
            "Hygiene             0\n",
            "Movement            0\n",
            "Schizophrenia     925\n",
            "dtype: int64\n"
          ]
        }
      ]
    },
    {
      "cell_type": "code",
      "source": [
        "# Daftar kolom yang ingin ditampilkan dalam subplot\n",
        "columns = ['Age', 'Gender', 'Marital_Status', 'Fatigue', 'Slowing', 'Pain', 'Hygiene', 'Movement', 'Schizophrenia']\n",
        "\n",
        "# Buat subplot dinamis sesuai jumlah kolom\n",
        "fig, axes = plt.subplots(3, 3, figsize=(15, 10), layout='constrained')\n",
        "axes = axes.flatten()\n",
        "\n",
        "# Jika hanya satu kolom, axes bukan iterable, jadi buat jadi list\n",
        "if len(columns) == 1:\n",
        "    axes = [axes]\n",
        "\n",
        "# Loop untuk setiap kolom dan subplot\n",
        "for i, col in enumerate(columns):\n",
        "    axes[i].boxplot(df[col].dropna())\n",
        "    axes[i].set_title(col)\n",
        "    axes[i].set_xlabel('Pengamatan')\n",
        "    axes[i].set_ylabel('Nilai')\n",
        "\n",
        "plt.show()"
      ],
      "metadata": {
        "colab": {
          "base_uri": "https://localhost:8080/",
          "height": 750
        },
        "id": "nLsjW9VJ86O_",
        "outputId": "05e981da-ca40-4752-8b0f-add18f3784e4"
      },
      "execution_count": 38,
      "outputs": [
        {
          "output_type": "display_data",
          "data": {
            "text/plain": [
              "<Figure size 1500x1000 with 9 Axes>"
            ],
            "image/png": "[encoded data removed]"
          },
          "metadata": {}
        }
      ]
    },
    {
      "cell_type": "code",
      "source": [
        "# mengganti nilai outlier dengan rata rata\n",
        "no_outliers = []\n",
        "mean = np.mean(df[\"Pain\"])\n",
        "for x in df[\"Pain\"]:\n",
        "    if x not in outliers:\n",
        "        no_outliers.append(x)\n",
        "    else:\n",
        "        no_outliers.append(mean)\n",
        "\n",
        "print(\"jumlah data tanpa outlier :\")\n",
        "print(len(no_outliers))"
      ],
      "metadata": {
        "colab": {
          "base_uri": "https://localhost:8080/"
        },
        "id": "9VFCX2Q59DZt",
        "outputId": "40db8a85-ad5a-423f-9ba1-d0dde50e239c"
      },
      "execution_count": 39,
      "outputs": [
        {
          "output_type": "stream",
          "name": "stdout",
          "text": [
            "jumlah data tanpa outlier :\n",
            "5000\n"
          ]
        }
      ]
    },
    {
      "cell_type": "markdown",
      "source": [
        "**Split Data Latih dan Uji**"
      ],
      "metadata": {
        "id": "n7DFq4Pl90Dv"
      }
    },
    {
      "cell_type": "code",
      "source": [
        "# 1. Pisahkan fitur (X) dan target (y)\n",
        "feature_target = 'Schizophrenia'\n",
        "X = df.drop(columns=[feature_target])\n",
        "y = df[feature_target]"
      ],
      "metadata": {
        "id": "YrUaqHDi_yu3"
      },
      "execution_count": 40,
      "outputs": []
    },
    {
      "cell_type": "markdown",
      "source": [
        "mengunakan teknik Z-Score Standardization"
      ],
      "metadata": {
        "id": "ksLheQY9nYd-"
      }
    },
    {
      "cell_type": "code",
      "source": [
        "# 2. Standarisasi fitur agar skala seragam\n",
        "scaler = MinMaxScaler()\n",
        "X_scaled = scaler.fit_transform(X)"
      ],
      "metadata": {
        "id": "WwCgP5Ee_18d"
      },
      "execution_count": 41,
      "outputs": []
    },
    {
      "cell_type": "code",
      "source": [
        "# 3. Bagi data menjadi data latih dan uji (80% latih, 20% uji)\n",
        "X_train, X_test, y_train, y_test = train_test_split(\n",
        "    X_scaled, y, test_size=0.2, random_state=42)"
      ],
      "metadata": {
        "id": "XfNBH9Oz_5T5"
      },
      "execution_count": 42,
      "outputs": []
    },
    {
      "cell_type": "markdown",
      "source": [
        "**Latih dan Prediksi Model**"
      ],
      "metadata": {
        "id": "mwa51pzv9-wl"
      }
    },
    {
      "cell_type": "code",
      "source": [
        "from imblearn.over_sampling import SMOTE"
      ],
      "metadata": {
        "id": "6ls8wayl_8k2"
      },
      "execution_count": 43,
      "outputs": []
    },
    {
      "cell_type": "code",
      "source": [
        "# Oversampling dengan SMOTE\n",
        "smote = SMOTE(random_state=42)\n",
        "X_resampled, y_resampled = smote.fit_resample(X_train, y_train)"
      ],
      "metadata": {
        "id": "xanu5_vP_eAO"
      },
      "execution_count": 44,
      "outputs": []
    },
    {
      "cell_type": "code",
      "source": [
        "# 4. Buat model SVM dengan kernel RBF\n",
        "svm_model = SVC(kernel='rbf', C=1.0, gamma='scale', class_weight='balanced')"
      ],
      "metadata": {
        "id": "0d17lcSq_8vv"
      },
      "execution_count": 45,
      "outputs": []
    },
    {
      "cell_type": "code",
      "source": [
        "# 5. Latih model dengan data latih\n",
        "# svm_model.fit(X_train, y_train) # ini dengan wight balanced"
      ],
      "metadata": {
        "id": "yc6zkHfjXiuf"
      },
      "execution_count": 46,
      "outputs": []
    },
    {
      "cell_type": "code",
      "source": [
        "# 5. Latih model dengan data latih\n",
        "svm_model.fit(X_resampled, y_resampled) # ini dengan smote + RBF +  class_weight='balanced'"
      ],
      "metadata": {
        "colab": {
          "base_uri": "https://localhost:8080/",
          "height": 80
        },
        "id": "KidBz-5w__Io",
        "outputId": "4c376349-9ef6-4f6e-8a18-d5dc96b3b803"
      },
      "execution_count": 52,
      "outputs": [
        {
          "output_type": "execute_result",
          "data": {
            "text/plain": [
              "SVC(class_weight='balanced')"
            ],
            "text/html": [
              "<style>#sk-container-id-4 {\n",
              "  /* Definition of color scheme common for light and dark mode */\n",
              "  --sklearn-color-text: #000;\n",
              "  --sklearn-color-text-muted: #666;\n",
              "  --sklearn-color-line: gray;\n",
              "  /* Definition of color scheme for unfitted estimators */\n",
              "  --sklearn-color-unfitted-level-0: #fff5e6;\n",
              "  --sklearn-color-unfitted-level-1: #f6e4d2;\n",
              "  --sklearn-color-unfitted-level-2: #ffe0b3;\n",
              "  --sklearn-color-unfitted-level-3: chocolate;\n",
              "  /* Definition of color scheme for fitted estimators */\n",
              "  --sklearn-color-fitted-level-0: #f0f8ff;\n",
              "  --sklearn-color-fitted-level-1: #d4ebff;\n",
              "  --sklearn-color-fitted-level-2: #b3dbfd;\n",
              "  --sklearn-color-fitted-level-3: cornflowerblue;\n",
              "\n",
              "  /* Specific color for light theme */\n",
              "  --sklearn-color-text-on-default-background: var(--sg-text-color, var(--theme-code-foreground, var(--jp-content-font-color1, black)));\n",
              "  --sklearn-color-background: var(--sg-background-color, var(--theme-background, var(--jp-layout-color0, white)));\n",
              "  --sklearn-color-border-box: var(--sg-text-color, var(--theme-code-foreground, var(--jp-content-font-color1, black)));\n",
              "  --sklearn-color-icon: #696969;\n",
              "\n",
              "  @media (prefers-color-scheme: dark) {\n",
              "    /* Redefinition of color scheme for dark theme */\n",
              "    --sklearn-color-text-on-default-background: var(--sg-text-color, var(--theme-code-foreground, var(--jp-content-font-color1, white)));\n",
              "    --sklearn-color-background: var(--sg-background-color, var(--theme-background, var(--jp-layout-color0, #111)));\n",
              "    --sklearn-color-border-box: var(--sg-text-color, var(--theme-code-foreground, var(--jp-content-font-color1, white)));\n",
              "    --sklearn-color-icon: #878787;\n",
              "  }\n",
              "}\n",
              "\n",
              "#sk-container-id-4 {\n",
              "  color: var(--sklearn-color-text);\n",
              "}\n",
              "\n",
              "#sk-container-id-4 pre {\n",
              "  padding: 0;\n",
              "}\n",
              "\n",
              "#sk-container-id-4 input.sk-hidden--visually {\n",
              "  border: 0;\n",
              "  clip: rect(1px 1px 1px 1px);\n",
              "  clip: rect(1px, 1px, 1px, 1px);\n",
              "  height: 1px;\n",
              "  margin: -1px;\n",
              "  overflow: hidden;\n",
              "  padding: 0;\n",
              "  position: absolute;\n",
              "  width: 1px;\n",
              "}\n",
              "\n",
              "#sk-container-id-4 div.sk-dashed-wrapped {\n",
              "  border: 1px dashed var(--sklearn-color-line);\n",
              "  margin: 0 0.4em 0.5em 0.4em;\n",
              "  box-sizing: border-box;\n",
              "  padding-bottom: 0.4em;\n",
              "  background-color: var(--sklearn-color-background);\n",
              "}\n",
              "\n",
              "#sk-container-id-4 div.sk-container {\n",
              "  /* jupyter's `normalize.less` sets `[hidden] { display: none; }`\n",
              "     but bootstrap.min.css set `[hidden] { display: none !important; }`\n",
              "     so we also need the `!important` here to be able to override the\n",
              "     default hidden behavior on the sphinx rendered scikit-learn.org.\n",
              "     See: https://github.com/scikit-learn/scikit-learn/issues/21755 */\n",
              "  display: inline-block !important;\n",
              "  position: relative;\n",
              "}\n",
              "\n",
              "#sk-container-id-4 div.sk-text-repr-fallback {\n",
              "  display: none;\n",
              "}\n",
              "\n",
              "div.sk-parallel-item,\n",
              "div.sk-serial,\n",
              "div.sk-item {\n",
              "  /* draw centered vertical line to link estimators */\n",
              "  background-image: linear-gradient(var(--sklearn-color-text-on-default-background), var(--sklearn-color-text-on-default-background));\n",
              "  background-size: 2px 100%;\n",
              "  background-repeat: no-repeat;\n",
              "  background-position: center center;\n",
              "}\n",
              "\n",
              "/* Parallel-specific style estimator block */\n",
              "\n",
              "#sk-container-id-4 div.sk-parallel-item::after {\n",
              "  content: \"\";\n",
              "  width: 100%;\n",
              "  border-bottom: 2px solid var(--sklearn-color-text-on-default-background);\n",
              "  flex-grow: 1;\n",
              "}\n",
              "\n",
              "#sk-container-id-4 div.sk-parallel {\n",
              "  display: flex;\n",
              "  align-items: stretch;\n",
              "  justify-content: center;\n",
              "  background-color: var(--sklearn-color-background);\n",
              "  position: relative;\n",
              "}\n",
              "\n",
              "#sk-container-id-4 div.sk-parallel-item {\n",
              "  display: flex;\n",
              "  flex-direction: column;\n",
              "}\n",
              "\n",
              "#sk-container-id-4 div.sk-parallel-item:first-child::after {\n",
              "  align-self: flex-end;\n",
              "  width: 50%;\n",
              "}\n",
              "\n",
              "#sk-container-id-4 div.sk-parallel-item:last-child::after {\n",
              "  align-self: flex-start;\n",
              "  width: 50%;\n",
              "}\n",
              "\n",
              "#sk-container-id-4 div.sk-parallel-item:only-child::after {\n",
              "  width: 0;\n",
              "}\n",
              "\n",
              "/* Serial-specific style estimator block */\n",
              "\n",
              "#sk-container-id-4 div.sk-serial {\n",
              "  display: flex;\n",
              "  flex-direction: column;\n",
              "  align-items: center;\n",
              "  background-color: var(--sklearn-color-background);\n",
              "  padding-right: 1em;\n",
              "  padding-left: 1em;\n",
              "}\n",
              "\n",
              "\n",
              "/* Toggleable style: style used for estimator/Pipeline/ColumnTransformer box that is\n",
              "clickable and can be expanded/collapsed.\n",
              "- Pipeline and ColumnTransformer use this feature and define the default style\n",
              "- Estimators will overwrite some part of the style using the `sk-estimator` class\n",
              "*/\n",
              "\n",
              "/* Pipeline and ColumnTransformer style (default) */\n",
              "\n",
              "#sk-container-id-4 div.sk-toggleable {\n",
              "  /* Default theme specific background. It is overwritten whether we have a\n",
              "  specific estimator or a Pipeline/ColumnTransformer */\n",
              "  background-color: var(--sklearn-color-background);\n",
              "}\n",
              "\n",
              "/* Toggleable label */\n",
              "#sk-container-id-4 label.sk-toggleable__label {\n",
              "  cursor: pointer;\n",
              "  display: flex;\n",
              "  width: 100%;\n",
              "  margin-bottom: 0;\n",
              "  padding: 0.5em;\n",
              "  box-sizing: border-box;\n",
              "  text-align: center;\n",
              "  align-items: start;\n",
              "  justify-content: space-between;\n",
              "  gap: 0.5em;\n",
              "}\n",
              "\n",
              "#sk-container-id-4 label.sk-toggleable__label .caption {\n",
              "  font-size: 0.6rem;\n",
              "  font-weight: lighter;\n",
              "  color: var(--sklearn-color-text-muted);\n",
              "}\n",
              "\n",
              "#sk-container-id-4 label.sk-toggleable__label-arrow:before {\n",
              "  /* Arrow on the left of the label */\n",
              "  content: \"▸\";\n",
              "  float: left;\n",
              "  margin-right: 0.25em;\n",
              "  color: var(--sklearn-color-icon);\n",
              "}\n",
              "\n",
              "#sk-container-id-4 label.sk-toggleable__label-arrow:hover:before {\n",
              "  color: var(--sklearn-color-text);\n",
              "}\n",
              "\n",
              "/* Toggleable content - dropdown */\n",
              "\n",
              "#sk-container-id-4 div.sk-toggleable__content {\n",
              "  max-height: 0;\n",
              "  max-width: 0;\n",
              "  overflow: hidden;\n",
              "  text-align: left;\n",
              "  /* unfitted */\n",
              "  background-color: var(--sklearn-color-unfitted-level-0);\n",
              "}\n",
              "\n",
              "#sk-container-id-4 div.sk-toggleable__content.fitted {\n",
              "  /* fitted */\n",
              "  background-color: var(--sklearn-color-fitted-level-0);\n",
              "}\n",
              "\n",
              "#sk-container-id-4 div.sk-toggleable__content pre {\n",
              "  margin: 0.2em;\n",
              "  border-radius: 0.25em;\n",
              "  color: var(--sklearn-color-text);\n",
              "  /* unfitted */\n",
              "  background-color: var(--sklearn-color-unfitted-level-0);\n",
              "}\n",
              "\n",
              "#sk-container-id-4 div.sk-toggleable__content.fitted pre {\n",
              "  /* unfitted */\n",
              "  background-color: var(--sklearn-color-fitted-level-0);\n",
              "}\n",
              "\n",
              "#sk-container-id-4 input.sk-toggleable__control:checked~div.sk-toggleable__content {\n",
              "  /* Expand drop-down */\n",
              "  max-height: 200px;\n",
              "  max-width: 100%;\n",
              "  overflow: auto;\n",
              "}\n",
              "\n",
              "#sk-container-id-4 input.sk-toggleable__control:checked~label.sk-toggleable__label-arrow:before {\n",
              "  content: \"▾\";\n",
              "}\n",
              "\n",
              "/* Pipeline/ColumnTransformer-specific style */\n",
              "\n",
              "#sk-container-id-4 div.sk-label input.sk-toggleable__control:checked~label.sk-toggleable__label {\n",
              "  color: var(--sklearn-color-text);\n",
              "  background-color: var(--sklearn-color-unfitted-level-2);\n",
              "}\n",
              "\n",
              "#sk-container-id-4 div.sk-label.fitted input.sk-toggleable__control:checked~label.sk-toggleable__label {\n",
              "  background-color: var(--sklearn-color-fitted-level-2);\n",
              "}\n",
              "\n",
              "/* Estimator-specific style */\n",
              "\n",
              "/* Colorize estimator box */\n",
              "#sk-container-id-4 div.sk-estimator input.sk-toggleable__control:checked~label.sk-toggleable__label {\n",
              "  /* unfitted */\n",
              "  background-color: var(--sklearn-color-unfitted-level-2);\n",
              "}\n",
              "\n",
              "#sk-container-id-4 div.sk-estimator.fitted input.sk-toggleable__control:checked~label.sk-toggleable__label {\n",
              "  /* fitted */\n",
              "  background-color: var(--sklearn-color-fitted-level-2);\n",
              "}\n",
              "\n",
              "#sk-container-id-4 div.sk-label label.sk-toggleable__label,\n",
              "#sk-container-id-4 div.sk-label label {\n",
              "  /* The background is the default theme color */\n",
              "  color: var(--sklearn-color-text-on-default-background);\n",
              "}\n",
              "\n",
              "/* On hover, darken the color of the background */\n",
              "#sk-container-id-4 div.sk-label:hover label.sk-toggleable__label {\n",
              "  color: var(--sklearn-color-text);\n",
              "  background-color: var(--sklearn-color-unfitted-level-2);\n",
              "}\n",
              "\n",
              "/* Label box, darken color on hover, fitted */\n",
              "#sk-container-id-4 div.sk-label.fitted:hover label.sk-toggleable__label.fitted {\n",
              "  color: var(--sklearn-color-text);\n",
              "  background-color: var(--sklearn-color-fitted-level-2);\n",
              "}\n",
              "\n",
              "/* Estimator label */\n",
              "\n",
              "#sk-container-id-4 div.sk-label label {\n",
              "  font-family: monospace;\n",
              "  font-weight: bold;\n",
              "  display: inline-block;\n",
              "  line-height: 1.2em;\n",
              "}\n",
              "\n",
              "#sk-container-id-4 div.sk-label-container {\n",
              "  text-align: center;\n",
              "}\n",
              "\n",
              "/* Estimator-specific */\n",
              "#sk-container-id-4 div.sk-estimator {\n",
              "  font-family: monospace;\n",
              "  border: 1px dotted var(--sklearn-color-border-box);\n",
              "  border-radius: 0.25em;\n",
              "  box-sizing: border-box;\n",
              "  margin-bottom: 0.5em;\n",
              "  /* unfitted */\n",
              "  background-color: var(--sklearn-color-unfitted-level-0);\n",
              "}\n",
              "\n",
              "#sk-container-id-4 div.sk-estimator.fitted {\n",
              "  /* fitted */\n",
              "  background-color: var(--sklearn-color-fitted-level-0);\n",
              "}\n",
              "\n",
              "/* on hover */\n",
              "#sk-container-id-4 div.sk-estimator:hover {\n",
              "  /* unfitted */\n",
              "  background-color: var(--sklearn-color-unfitted-level-2);\n",
              "}\n",
              "\n",
              "#sk-container-id-4 div.sk-estimator.fitted:hover {\n",
              "  /* fitted */\n",
              "  background-color: var(--sklearn-color-fitted-level-2);\n",
              "}\n",
              "\n",
              "/* Specification for estimator info (e.g. \"i\" and \"?\") */\n",
              "\n",
              "/* Common style for \"i\" and \"?\" */\n",
              "\n",
              ".sk-estimator-doc-link,\n",
              "a:link.sk-estimator-doc-link,\n",
              "a:visited.sk-estimator-doc-link {\n",
              "  float: right;\n",
              "  font-size: smaller;\n",
              "  line-height: 1em;\n",
              "  font-family: monospace;\n",
              "  background-color: var(--sklearn-color-background);\n",
              "  border-radius: 1em;\n",
              "  height: 1em;\n",
              "  width: 1em;\n",
              "  text-decoration: none !important;\n",
              "  margin-left: 0.5em;\n",
              "  text-align: center;\n",
              "  /* unfitted */\n",
              "  border: var(--sklearn-color-unfitted-level-1) 1pt solid;\n",
              "  color: var(--sklearn-color-unfitted-level-1);\n",
              "}\n",
              "\n",
              ".sk-estimator-doc-link.fitted,\n",
              "a:link.sk-estimator-doc-link.fitted,\n",
              "a:visited.sk-estimator-doc-link.fitted {\n",
              "  /* fitted */\n",
              "  border: var(--sklearn-color-fitted-level-1) 1pt solid;\n",
              "  color: var(--sklearn-color-fitted-level-1);\n",
              "}\n",
              "\n",
              "/* On hover */\n",
              "div.sk-estimator:hover .sk-estimator-doc-link:hover,\n",
              ".sk-estimator-doc-link:hover,\n",
              "div.sk-label-container:hover .sk-estimator-doc-link:hover,\n",
              ".sk-estimator-doc-link:hover {\n",
              "  /* unfitted */\n",
              "  background-color: var(--sklearn-color-unfitted-level-3);\n",
              "  color: var(--sklearn-color-background);\n",
              "  text-decoration: none;\n",
              "}\n",
              "\n",
              "div.sk-estimator.fitted:hover .sk-estimator-doc-link.fitted:hover,\n",
              ".sk-estimator-doc-link.fitted:hover,\n",
              "div.sk-label-container:hover .sk-estimator-doc-link.fitted:hover,\n",
              ".sk-estimator-doc-link.fitted:hover {\n",
              "  /* fitted */\n",
              "  background-color: var(--sklearn-color-fitted-level-3);\n",
              "  color: var(--sklearn-color-background);\n",
              "  text-decoration: none;\n",
              "}\n",
              "\n",
              "/* Span, style for the box shown on hovering the info icon */\n",
              ".sk-estimator-doc-link span {\n",
              "  display: none;\n",
              "  z-index: 9999;\n",
              "  position: relative;\n",
              "  font-weight: normal;\n",
              "  right: .2ex;\n",
              "  padding: .5ex;\n",
              "  margin: .5ex;\n",
              "  width: min-content;\n",
              "  min-width: 20ex;\n",
              "  max-width: 50ex;\n",
              "  color: var(--sklearn-color-text);\n",
              "  box-shadow: 2pt 2pt 4pt #999;\n",
              "  /* unfitted */\n",
              "  background: var(--sklearn-color-unfitted-level-0);\n",
              "  border: .5pt solid var(--sklearn-color-unfitted-level-3);\n",
              "}\n",
              "\n",
              ".sk-estimator-doc-link.fitted span {\n",
              "  /* fitted */\n",
              "  background: var(--sklearn-color-fitted-level-0);\n",
              "  border: var(--sklearn-color-fitted-level-3);\n",
              "}\n",
              "\n",
              ".sk-estimator-doc-link:hover span {\n",
              "  display: block;\n",
              "}\n",
              "\n",
              "/* \"?\"-specific style due to the `<a>` HTML tag */\n",
              "\n",
              "#sk-container-id-4 a.estimator_doc_link {\n",
              "  float: right;\n",
              "  font-size: 1rem;\n",
              "  line-height: 1em;\n",
              "  font-family: monospace;\n",
              "  background-color: var(--sklearn-color-background);\n",
              "  border-radius: 1rem;\n",
              "  height: 1rem;\n",
              "  width: 1rem;\n",
              "  text-decoration: none;\n",
              "  /* unfitted */\n",
              "  color: var(--sklearn-color-unfitted-level-1);\n",
              "  border: var(--sklearn-color-unfitted-level-1) 1pt solid;\n",
              "}\n",
              "\n",
              "#sk-container-id-4 a.estimator_doc_link.fitted {\n",
              "  /* fitted */\n",
              "  border: var(--sklearn-color-fitted-level-1) 1pt solid;\n",
              "  color: var(--sklearn-color-fitted-level-1);\n",
              "}\n",
              "\n",
              "/* On hover */\n",
              "#sk-container-id-4 a.estimator_doc_link:hover {\n",
              "  /* unfitted */\n",
              "  background-color: var(--sklearn-color-unfitted-level-3);\n",
              "  color: var(--sklearn-color-background);\n",
              "  text-decoration: none;\n",
              "}\n",
              "\n",
              "#sk-container-id-4 a.estimator_doc_link.fitted:hover {\n",
              "  /* fitted */\n",
              "  background-color: var(--sklearn-color-fitted-level-3);\n",
              "}\n",
              "</style><div id=\"sk-container-id-4\" class=\"sk-top-container\"><div class=\"sk-text-repr-fallback\"><pre>SVC(class_weight=&#x27;balanced&#x27;)</pre><b>In a Jupyter environment, please rerun this cell to show the HTML representation or trust the notebook. <br />On GitHub, the HTML representation is unable to render, please try loading this page with nbviewer.org.</b></div><div class=\"sk-container\" hidden><div class=\"sk-item\"><div class=\"sk-estimator fitted sk-toggleable\"><input class=\"sk-toggleable__control sk-hidden--visually\" id=\"sk-estimator-id-4\" type=\"checkbox\" checked><label for=\"sk-estimator-id-4\" class=\"sk-toggleable__label fitted sk-toggleable__label-arrow\"><div><div>SVC</div></div><div><a class=\"sk-estimator-doc-link fitted\" rel=\"noreferrer\" target=\"_blank\" href=\"https://scikit-learn.org/1.6/modules/generated/sklearn.svm.SVC.html\">?<span>Documentation for SVC</span></a><span class=\"sk-estimator-doc-link fitted\">i<span>Fitted</span></span></div></label><div class=\"sk-toggleable__content fitted\"><pre>SVC(class_weight=&#x27;balanced&#x27;)</pre></div> </div></div></div></div>"
            ]
          },
          "metadata": {},
          "execution_count": 52
        }
      ]
    },
    {
      "cell_type": "code",
      "source": [
        "# 6. Prediksi data uji\n",
        "y_pred = svm_model.predict(X_test)"
      ],
      "metadata": {
        "id": "MdqLG_45ABox"
      },
      "execution_count": 53,
      "outputs": []
    },
    {
      "cell_type": "code",
      "source": [
        "# 7. Evaluasi performa model\n",
        "print(\"=== Confusion Matrix ===\")\n",
        "cm = confusion_matrix(y_test, y_pred)\n",
        "print(cm)\n",
        "\n",
        "# Define class names for the target variable\n",
        "# Assuming 'Schizophrenia' is encoded as 0 and 1. Adjust if you have more classes.\n",
        "class_names = ['Non-Schizophrenia', 'Schizophrenia']\n",
        "\n",
        "# Plot confusion matrix as heatmap\n",
        "plt.figure(figsize=(8,6))\n",
        "sns.heatmap(cm, annot=True, fmt='d', cmap='Blues', cbar=False,\n",
        "            xticklabels=class_names, yticklabels=class_names)  # class_names: list of label names\n",
        "plt.xlabel('Predicted Label')\n",
        "plt.ylabel('True Label')\n",
        "plt.title('Confusion Matrix')\n",
        "plt.show()\n",
        "\n",
        "print(\"\\n=== Classification Report ===\")\n",
        "print(classification_report(y_test, y_pred))\n",
        "\n",
        "print(\"\\n=== Accuracy Score ===\")\n",
        "print(accuracy_score(y_test, y_pred))"
      ],
      "metadata": {
        "colab": {
          "base_uri": "https://localhost:8080/",
          "height": 988
        },
        "id": "ScOiDpQMAFsU",
        "outputId": "923ae955-c7b9-4189-9120-666ad72af06e"
      },
      "execution_count": 54,
      "outputs": [
        {
          "output_type": "stream",
          "name": "stdout",
          "text": [
            "=== Confusion Matrix ===\n",
            "[[566  31   0  27   0]\n",
            " [  5 161   0   0   0]\n",
            " [  0   0   5   5   0]\n",
            " [ 13   0   5 178   0]\n",
            " [  0   1   0   0   3]]\n"
          ]
        },
        {
          "output_type": "display_data",
          "data": {
            "text/plain": [
              "<Figure size 800x600 with 1 Axes>"
            ],
            "image/png": "[encoded data removed]"
          },
          "metadata": {}
        },
        {
          "output_type": "stream",
          "name": "stdout",
          "text": [
            "\n",
            "=== Classification Report ===\n",
            "              precision    recall  f1-score   support\n",
            "\n",
            "           0       0.97      0.91      0.94       624\n",
            "           1       0.83      0.97      0.90       166\n",
            "           2       0.50      0.50      0.50        10\n",
            "           3       0.85      0.91      0.88       196\n",
            "           4       1.00      0.75      0.86         4\n",
            "\n",
            "    accuracy                           0.91      1000\n",
            "   macro avg       0.83      0.81      0.81      1000\n",
            "weighted avg       0.92      0.91      0.91      1000\n",
            "\n",
            "\n",
            "=== Accuracy Score ===\n",
            "0.913\n"
          ]
        }
      ]
    }
  ]
}