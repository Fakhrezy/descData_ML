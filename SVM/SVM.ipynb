{
  "cells": [
    {
      "cell_type": "code",
      "execution_count": 1,
      "metadata": {
        "colab": {
          "base_uri": "https://localhost:8080/"
        },
        "id": "s2mvp_Z-NvLe",
        "outputId": "e68cda4b-b953-4b23-b51e-f7cdbf9f6dd9"
      },
      "outputs": [
        {
          "name": "stdout",
          "output_type": "stream",
          "text": [
            "Prediksi kelas untuk data uji: Elevated Proneness\n",
            "Probabilitas prediksi: [0.13583252 0.26463909 0.14414909 0.34239547 0.11298383]\n"
          ]
        }
      ],
      "source": [
        "import pandas as pd\n",
        "from sklearn.svm import SVC\n",
        "from sklearn.preprocessing import StandardScaler\n",
        "import matplotlib.pyplot as plt\n",
        "\n",
        "# 1. Baca data\n",
        "df = pd.read_excel(\"schizoCase.xlsx\")\n",
        "\n",
        "# 2. Pisahkan data training dan data uji\n",
        "data_train = df.iloc[:-1, :]\n",
        "data_test = df.iloc[-1:, :]\n",
        "\n",
        "# 3. Ambil hanya kolom numerik\n",
        "X_train = data_train.select_dtypes(include='number').iloc[:, :-1]\n",
        "y_train = data_train.iloc[:, -1]\n",
        "X_test = data_test.select_dtypes(include='number').iloc[:, :-1]\n",
        "\n",
        "# 4. Standarisasi data\n",
        "scaler = StandardScaler()\n",
        "X_train_scaled = scaler.fit_transform(X_train)\n",
        "X_test_scaled = scaler.transform(X_test)\n",
        "\n",
        "# 5. Model SVM\n",
        "svm_model = SVC(kernel='rbf', C=1.0, gamma='scale', probability=True, random_state=0)\n",
        "svm_model.fit(X_train_scaled, y_train)\n",
        "\n",
        "# 6. Prediksi data uji\n",
        "prediction = svm_model.predict(X_test_scaled)\n",
        "proba = svm_model.predict_proba(X_test_scaled)\n",
        "\n",
        "print(\"Prediksi kelas untuk data uji:\", prediction[0])\n",
        "print(\"Probabilitas prediksi:\", proba[0])\n",
        "\n",
        "# 7. (Opsional) Visualisasi jika hanya 2 fitur\n",
        "if X_train.shape[1] == 2:\n",
        "    import numpy as np\n",
        "    from matplotlib.colors import ListedColormap\n",
        "\n",
        "    X_combined = np.vstack((X_train_scaled, X_test_scaled))\n",
        "    y_combined = pd.concat([y_train, pd.Series(prediction)], ignore_index=True)\n",
        "\n",
        "    x_min, x_max = X_combined[:, 0].min() - 1, X_combined[:, 0].max() + 1\n",
        "    y_min, y_max = X_combined[:, 1].min() - 1, X_combined[:, 1].max() + 1\n",
        "    xx, yy = np.meshgrid(np.linspace(x_min, x_max, 200),\n",
        "                         np.linspace(y_min, y_max, 200))\n",
        "\n",
        "    Z = svm_model.predict(np.c_[xx.ravel(), yy.ravel()])\n",
        "    Z = Z.reshape(xx.shape)\n",
        "\n",
        "    plt.contourf(xx, yy, Z, alpha=0.3, cmap=ListedColormap(['#FFAAAA', '#AAFFAA', '#AAAAFF']))\n",
        "    plt.scatter(X_train_scaled[:, 0], X_train_scaled[:, 1], c=y_train, edgecolors='k', label='Train')\n",
        "    plt.scatter(X_test_scaled[:, 0], X_test_scaled[:, 1], c='black', marker='x', s=100, label='Test')\n",
        "    plt.title(\"Visualisasi SVM (2 fitur)\")\n",
        "    plt.xlabel(X_train.columns[0])\n",
        "    plt.ylabel(X_train.columns[1])\n",
        "    plt.legend()\n",
        "    plt.show()"
      ]
    }
  ],
  "metadata": {
    "colab": {
      "provenance": []
    },
    "kernelspec": {
      "display_name": "Python 3",
      "name": "python3"
    },
    "language_info": {
      "name": "python",
      "version": "3.12.2"
    }
  },
  "nbformat": 4,
  "nbformat_minor": 0
}
