{
 "cells": [
  {
   "cell_type": "code",
   "execution_count": 1,
   "id": "bf5fc4f8",
   "metadata": {},
   "outputs": [],
   "source": [
    "import pandas as pd\n",
    "import matplotlib.pyplot as plt\n",
    "from sklearn import model_selection\n",
    "from sklearn.tree import DecisionTreeClassifier\n",
    "from sklearn.preprocessing import LabelEncoder\n",
    "import seaborn as sns\n",
    "from sklearn.metrics import classification_report\n",
    "# from sklearn.preprocessing import StandardScaler, MinMaxScaler, Normalizer\n",
    "import numpy as np\n"
   ]
  },
  {
   "cell_type": "code",
   "execution_count": 2,
   "id": "4e71e956",
   "metadata": {},
   "outputs": [
    {
     "name": "stdout",
     "output_type": "stream",
     "text": [
      "                    Name  Age  Gender  Marital_Status   Fatigue   Slowing  \\\n",
      "0         Leslie Goodwin   68       0               2  0.698075  0.123064   \n",
      "1     Dr. Troy Castaneda   88       1               1  0.049245 -0.042080   \n",
      "2  Dr. Devin Skinner DVM   95       0               3  0.036324  0.580808   \n",
      "3           Megan Mendez   81       0               3  0.926727  0.484202   \n",
      "4      Zachary Smith DVM   77       1               1  0.145541  0.737656   \n",
      "\n",
      "       Pain   Hygiene  Movement  Schizophrenia  \n",
      "0  0.375303  0.234639  0.251869              0  \n",
      "1  0.432807  0.501238  0.379948              3  \n",
      "2  0.005356  0.306968  0.813618              3  \n",
      "3  0.702405  0.736054  0.579448              1  \n",
      "4  0.369630  0.206471  0.890684              0  \n"
     ]
    }
   ],
   "source": [
    "file_path = \"dataset/schizo_symptons_cleaned_L2.xlsx\"  \n",
    "df = pd.read_excel(file_path)\n",
    "print(df.head())"
   ]
  },
  {
   "cell_type": "code",
   "execution_count": 3,
   "id": "f3772089",
   "metadata": {},
   "outputs": [
    {
     "name": "stdout",
     "output_type": "stream",
     "text": [
      "               Age       Gender  Marital_Status      Fatigue      Slowing  \\\n",
      "count  4318.000000  4318.000000     4318.000000  4318.000000  4318.000000   \n",
      "mean     74.779064     0.492821        1.487726     0.503396     0.499663   \n",
      "std       9.561927     0.500006        1.128613     0.296260     0.294848   \n",
      "min      55.000000     0.000000        0.000000    -0.092667    -0.094843   \n",
      "25%      67.000000     0.000000        0.000000     0.246073     0.249073   \n",
      "50%      75.000000     0.000000        1.000000     0.507387     0.500709   \n",
      "75%      83.000000     1.000000        3.000000     0.758491     0.744854   \n",
      "max      95.000000     1.000000        3.000000     1.091136     1.092146   \n",
      "\n",
      "              Pain      Hygiene     Movement  Schizophrenia  \n",
      "count  4318.000000  4318.000000  4318.000000    4318.000000  \n",
      "mean      0.500529     0.501483     0.503044       0.763780  \n",
      "std       0.294170     0.294218     0.288767       1.145946  \n",
      "min      -0.095771    -0.094284    -0.089272       0.000000  \n",
      "25%       0.253225     0.252167     0.259898       0.000000  \n",
      "50%       0.498417     0.503413     0.507957       0.000000  \n",
      "75%       0.749884     0.751913     0.743620       1.000000  \n",
      "max       1.090027     1.086922     1.077088       4.000000  \n"
     ]
    }
   ],
   "source": [
    "print(df.describe())\n"
   ]
  },
  {
   "cell_type": "code",
   "execution_count": 4,
   "id": "ab5177f3",
   "metadata": {},
   "outputs": [
    {
     "name": "stdout",
     "output_type": "stream",
     "text": [
      "<class 'pandas.core.frame.DataFrame'>\n",
      "RangeIndex: 4318 entries, 0 to 4317\n",
      "Data columns (total 10 columns):\n",
      " #   Column          Non-Null Count  Dtype  \n",
      "---  ------          --------------  -----  \n",
      " 0   Name            4318 non-null   object \n",
      " 1   Age             4318 non-null   int64  \n",
      " 2   Gender          4318 non-null   int64  \n",
      " 3   Marital_Status  4318 non-null   int64  \n",
      " 4   Fatigue         4318 non-null   float64\n",
      " 5   Slowing         4318 non-null   float64\n",
      " 6   Pain            4318 non-null   float64\n",
      " 7   Hygiene         4318 non-null   float64\n",
      " 8   Movement        4318 non-null   float64\n",
      " 9   Schizophrenia   4318 non-null   int64  \n",
      "dtypes: float64(5), int64(4), object(1)\n",
      "memory usage: 337.5+ KB\n",
      "None\n"
     ]
    }
   ],
   "source": [
    "print(df.info())"
   ]
  },
  {
   "cell_type": "code",
   "execution_count": 5,
   "id": "748fa11b",
   "metadata": {},
   "outputs": [],
   "source": [
    "# Pisahkan fitur (X) dan label (Y)\n",
    "df_X = df.drop(columns=['Name'])  # semua fitur numerik\n",
    "df_Y = df['Schizophrenia'] # target klasifikasi"
   ]
  },
  {
   "cell_type": "code",
   "execution_count": 6,
   "id": "14441707",
   "metadata": {},
   "outputs": [],
   "source": [
    "# Konversi kembali menjadi DataFrame dengan kolom yang sesuai\n",
    "column_names = df.drop(columns=['Name']).columns  \n",
    "df_X = pd.DataFrame(df_X, columns=column_names)"
   ]
  },
  {
   "cell_type": "code",
   "execution_count": 7,
   "id": "3e59c1d9",
   "metadata": {},
   "outputs": [
    {
     "name": "stdout",
     "output_type": "stream",
     "text": [
      "   Age  Gender  Marital_Status   Fatigue   Slowing      Pain   Hygiene  \\\n",
      "0   68       0               2  0.698075  0.123064  0.375303  0.234639   \n",
      "1   88       1               1  0.049245 -0.042080  0.432807  0.501238   \n",
      "2   95       0               3  0.036324  0.580808  0.005356  0.306968   \n",
      "3   81       0               3  0.926727  0.484202  0.702405  0.736054   \n",
      "4   77       1               1  0.145541  0.737656  0.369630  0.206471   \n",
      "\n",
      "   Movement  Schizophrenia  \n",
      "0  0.251869              0  \n",
      "1  0.379948              3  \n",
      "2  0.813618              3  \n",
      "3  0.579448              1  \n",
      "4  0.890684              0  \n"
     ]
    }
   ],
   "source": [
    "print(df_X.head())"
   ]
  },
  {
   "cell_type": "code",
   "execution_count": 8,
   "id": "cc66d32d",
   "metadata": {},
   "outputs": [],
   "source": [
    "model_dt = DecisionTreeClassifier(ccp_alpha=0.01, random_state=42)\n",
    "model_dt.fit(df_X, df_Y)\n",
    "dt_test = model_dt.predict(df_X)"
   ]
  },
  {
   "cell_type": "code",
   "execution_count": 11,
   "id": "9c38d36f",
   "metadata": {},
   "outputs": [
    {
     "name": "stdout",
     "output_type": "stream",
     "text": [
      "\n",
      "Classification Report for full dataset:\n",
      "              precision    recall  f1-score   support\n",
      "\n",
      "           0       1.00      1.00      1.00      2650\n",
      "           1       1.00      1.00      1.00       841\n",
      "           2       1.00      1.00      1.00        36\n",
      "           3       0.98      1.00      0.99       779\n",
      "           4       0.00      0.00      0.00        12\n",
      "\n",
      "    accuracy                           1.00      4318\n",
      "   macro avg       0.80      0.80      0.80      4318\n",
      "weighted avg       0.99      1.00      1.00      4318\n",
      "\n"
     ]
    },
    {
     "name": "stderr",
     "output_type": "stream",
     "text": [
      "c:\\Users\\budia\\AppData\\Local\\Programs\\Python\\Python310\\lib\\site-packages\\sklearn\\metrics\\_classification.py:1509: UndefinedMetricWarning: Precision is ill-defined and being set to 0.0 in labels with no predicted samples. Use `zero_division` parameter to control this behavior.\n",
      "  _warn_prf(average, modifier, f\"{metric.capitalize()} is\", len(result))\n",
      "c:\\Users\\budia\\AppData\\Local\\Programs\\Python\\Python310\\lib\\site-packages\\sklearn\\metrics\\_classification.py:1509: UndefinedMetricWarning: Precision is ill-defined and being set to 0.0 in labels with no predicted samples. Use `zero_division` parameter to control this behavior.\n",
      "  _warn_prf(average, modifier, f\"{metric.capitalize()} is\", len(result))\n",
      "c:\\Users\\budia\\AppData\\Local\\Programs\\Python\\Python310\\lib\\site-packages\\sklearn\\metrics\\_classification.py:1509: UndefinedMetricWarning: Precision is ill-defined and being set to 0.0 in labels with no predicted samples. Use `zero_division` parameter to control this behavior.\n",
      "  _warn_prf(average, modifier, f\"{metric.capitalize()} is\", len(result))\n"
     ]
    }
   ],
   "source": [
    "print(\"\\nClassification Report for full dataset:\")\n",
    "print(classification_report(df_Y, dt_test))"
   ]
  },
  {
   "cell_type": "code",
   "execution_count": 10,
   "id": "2d987399",
   "metadata": {},
   "outputs": [
    {
     "name": "stdout",
     "output_type": "stream",
     "text": [
      "Akurasi per fold:\n",
      "0.9977, 0.9907, 1.0000, 1.0000, 0.9977, 0.9977, 1.0000, 0.9977, 0.9977, 0.9930\n",
      "\n",
      "Kinerja rata-rata: 0.9972\n",
      "Standar deviasi: 0.0029\n"
     ]
    }
   ],
   "source": [
    "# K-fold Cross Validation untuk Decision Tree\n",
    "seed = 7\n",
    "scoring = 'accuracy'\n",
    "kfold = model_selection.KFold(n_splits=10, random_state=seed, shuffle=True)\n",
    "dt_acc = model_selection.cross_val_score(model_dt, df_X, df_Y, cv=kfold, scoring=scoring)\n",
    "\n",
    "print(\"Akurasi per fold:\")\n",
    "print(\", \".join([f\"{acc:.4f}\" for acc in dt_acc]))\n",
    "print(\"\\nKinerja rata-rata: {:.4f}\".format(dt_acc.mean()))\n",
    "print(\"Standar deviasi: {:.4f}\".format(dt_acc.std()))\n"
   ]
  }
 ],
 "metadata": {
  "kernelspec": {
   "display_name": "Python 3",
   "language": "python",
   "name": "python3"
  },
  "language_info": {
   "codemirror_mode": {
    "name": "ipython",
    "version": 3
   },
   "file_extension": ".py",
   "mimetype": "text/x-python",
   "name": "python",
   "nbconvert_exporter": "python",
   "pygments_lexer": "ipython3",
   "version": "3.10.0"
  }
 },
 "nbformat": 4,
 "nbformat_minor": 5
}
